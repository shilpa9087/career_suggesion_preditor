{
  "nbformat": 4,
  "nbformat_minor": 0,
  "metadata": {
    "colab": {
      "provenance": []
    },
    "kernelspec": {
      "name": "python3",
      "display_name": "Python 3"
    },
    "language_info": {
      "name": "python"
    }
  },
  "cells": [
    {
      "cell_type": "markdown",
      "source": [
        "# Problem Statement\n",
        "\n",
        "This project aims to suggest career paths for students based on demographic, academic, and behavioural features. The dataset contains 145 student record with 16 attributes, including age, gender, study habits, extracarricular activities, and performance indicators. By analyzing these features, we aim to build a machine learning model that predicts a student's most suitable career path. This will support educational outreach and career guidance initiatives, especially in resource-limited environments."
      ],
      "metadata": {
        "id": "3xtJ_9GzJaio"
      }
    },
    {
      "cell_type": "code",
      "execution_count": 1,
      "metadata": {
        "id": "RmDXzlf7JHm8"
      },
      "outputs": [],
      "source": [
        "import pandas as pd\n",
        "import numpy as np\n",
        "import matplotlib.pyplot as plt\n",
        "import seaborn as sns"
      ]
    },
    {
      "cell_type": "code",
      "source": [
        "data = pd.read_csv('/content/drive/MyDrive/student.csv')"
      ],
      "metadata": {
        "id": "2kryNyvZJgkT"
      },
      "execution_count": 2,
      "outputs": []
    },
    {
      "cell_type": "code",
      "source": [
        "data.head()"
      ],
      "metadata": {
        "colab": {
          "base_uri": "https://localhost:8080/",
          "height": 243
        },
        "id": "4AD9-0unJqIZ",
        "outputId": "bb75faae-bde0-482c-d479-570ebb4b9970"
      },
      "execution_count": 3,
      "outputs": [
        {
          "output_type": "execute_result",
          "data": {
            "text/plain": [
              "   Unnamed: 0    Id  Student_Age     Sex High_School_Type Scholarship  \\\n",
              "0           0  5001           21    Male            Other         50%   \n",
              "1           1  5002           20    Male            Other         50%   \n",
              "2           2  5003           21    Male            State         50%   \n",
              "3           3  5004           18  Female          Private         50%   \n",
              "4           4  5005           22    Male          Private         50%   \n",
              "\n",
              "  Additional_Work Sports_activity Transportation  Weekly_Study_Hours  \\\n",
              "0             Yes              No        Private                   0   \n",
              "1             Yes              No        Private                   0   \n",
              "2              No              No        Private                   2   \n",
              "3             Yes              No            Bus                   2   \n",
              "4              No              No            Bus                  12   \n",
              "\n",
              "  Attendance Reading Notes Listening_in_Class Project_work Grade  \n",
              "0     Always     Yes   Yes                 No           No    AA  \n",
              "1     Always     Yes    No                Yes          Yes    AA  \n",
              "2      Never      No    No                 No          Yes    AA  \n",
              "3     Always      No   Yes                 No           No    AA  \n",
              "4     Always     Yes    No                Yes          Yes    AA  "
            ],
            "text/html": [
              "\n",
              "  <div id=\"df-9204bdf5-7e93-4f56-8465-6f123328dd38\" class=\"colab-df-container\">\n",
              "    <div>\n",
              "<style scoped>\n",
              "    .dataframe tbody tr th:only-of-type {\n",
              "        vertical-align: middle;\n",
              "    }\n",
              "\n",
              "    .dataframe tbody tr th {\n",
              "        vertical-align: top;\n",
              "    }\n",
              "\n",
              "    .dataframe thead th {\n",
              "        text-align: right;\n",
              "    }\n",
              "</style>\n",
              "<table border=\"1\" class=\"dataframe\">\n",
              "  <thead>\n",
              "    <tr style=\"text-align: right;\">\n",
              "      <th></th>\n",
              "      <th>Unnamed: 0</th>\n",
              "      <th>Id</th>\n",
              "      <th>Student_Age</th>\n",
              "      <th>Sex</th>\n",
              "      <th>High_School_Type</th>\n",
              "      <th>Scholarship</th>\n",
              "      <th>Additional_Work</th>\n",
              "      <th>Sports_activity</th>\n",
              "      <th>Transportation</th>\n",
              "      <th>Weekly_Study_Hours</th>\n",
              "      <th>Attendance</th>\n",
              "      <th>Reading</th>\n",
              "      <th>Notes</th>\n",
              "      <th>Listening_in_Class</th>\n",
              "      <th>Project_work</th>\n",
              "      <th>Grade</th>\n",
              "    </tr>\n",
              "  </thead>\n",
              "  <tbody>\n",
              "    <tr>\n",
              "      <th>0</th>\n",
              "      <td>0</td>\n",
              "      <td>5001</td>\n",
              "      <td>21</td>\n",
              "      <td>Male</td>\n",
              "      <td>Other</td>\n",
              "      <td>50%</td>\n",
              "      <td>Yes</td>\n",
              "      <td>No</td>\n",
              "      <td>Private</td>\n",
              "      <td>0</td>\n",
              "      <td>Always</td>\n",
              "      <td>Yes</td>\n",
              "      <td>Yes</td>\n",
              "      <td>No</td>\n",
              "      <td>No</td>\n",
              "      <td>AA</td>\n",
              "    </tr>\n",
              "    <tr>\n",
              "      <th>1</th>\n",
              "      <td>1</td>\n",
              "      <td>5002</td>\n",
              "      <td>20</td>\n",
              "      <td>Male</td>\n",
              "      <td>Other</td>\n",
              "      <td>50%</td>\n",
              "      <td>Yes</td>\n",
              "      <td>No</td>\n",
              "      <td>Private</td>\n",
              "      <td>0</td>\n",
              "      <td>Always</td>\n",
              "      <td>Yes</td>\n",
              "      <td>No</td>\n",
              "      <td>Yes</td>\n",
              "      <td>Yes</td>\n",
              "      <td>AA</td>\n",
              "    </tr>\n",
              "    <tr>\n",
              "      <th>2</th>\n",
              "      <td>2</td>\n",
              "      <td>5003</td>\n",
              "      <td>21</td>\n",
              "      <td>Male</td>\n",
              "      <td>State</td>\n",
              "      <td>50%</td>\n",
              "      <td>No</td>\n",
              "      <td>No</td>\n",
              "      <td>Private</td>\n",
              "      <td>2</td>\n",
              "      <td>Never</td>\n",
              "      <td>No</td>\n",
              "      <td>No</td>\n",
              "      <td>No</td>\n",
              "      <td>Yes</td>\n",
              "      <td>AA</td>\n",
              "    </tr>\n",
              "    <tr>\n",
              "      <th>3</th>\n",
              "      <td>3</td>\n",
              "      <td>5004</td>\n",
              "      <td>18</td>\n",
              "      <td>Female</td>\n",
              "      <td>Private</td>\n",
              "      <td>50%</td>\n",
              "      <td>Yes</td>\n",
              "      <td>No</td>\n",
              "      <td>Bus</td>\n",
              "      <td>2</td>\n",
              "      <td>Always</td>\n",
              "      <td>No</td>\n",
              "      <td>Yes</td>\n",
              "      <td>No</td>\n",
              "      <td>No</td>\n",
              "      <td>AA</td>\n",
              "    </tr>\n",
              "    <tr>\n",
              "      <th>4</th>\n",
              "      <td>4</td>\n",
              "      <td>5005</td>\n",
              "      <td>22</td>\n",
              "      <td>Male</td>\n",
              "      <td>Private</td>\n",
              "      <td>50%</td>\n",
              "      <td>No</td>\n",
              "      <td>No</td>\n",
              "      <td>Bus</td>\n",
              "      <td>12</td>\n",
              "      <td>Always</td>\n",
              "      <td>Yes</td>\n",
              "      <td>No</td>\n",
              "      <td>Yes</td>\n",
              "      <td>Yes</td>\n",
              "      <td>AA</td>\n",
              "    </tr>\n",
              "  </tbody>\n",
              "</table>\n",
              "</div>\n",
              "    <div class=\"colab-df-buttons\">\n",
              "\n",
              "  <div class=\"colab-df-container\">\n",
              "    <button class=\"colab-df-convert\" onclick=\"convertToInteractive('df-9204bdf5-7e93-4f56-8465-6f123328dd38')\"\n",
              "            title=\"Convert this dataframe to an interactive table.\"\n",
              "            style=\"display:none;\">\n",
              "\n",
              "  <svg xmlns=\"http://www.w3.org/2000/svg\" height=\"24px\" viewBox=\"0 -960 960 960\">\n",
              "    <path d=\"M120-120v-720h720v720H120Zm60-500h600v-160H180v160Zm220 220h160v-160H400v160Zm0 220h160v-160H400v160ZM180-400h160v-160H180v160Zm440 0h160v-160H620v160ZM180-180h160v-160H180v160Zm440 0h160v-160H620v160Z\"/>\n",
              "  </svg>\n",
              "    </button>\n",
              "\n",
              "  <style>\n",
              "    .colab-df-container {\n",
              "      display:flex;\n",
              "      gap: 12px;\n",
              "    }\n",
              "\n",
              "    .colab-df-convert {\n",
              "      background-color: #E8F0FE;\n",
              "      border: none;\n",
              "      border-radius: 50%;\n",
              "      cursor: pointer;\n",
              "      display: none;\n",
              "      fill: #1967D2;\n",
              "      height: 32px;\n",
              "      padding: 0 0 0 0;\n",
              "      width: 32px;\n",
              "    }\n",
              "\n",
              "    .colab-df-convert:hover {\n",
              "      background-color: #E2EBFA;\n",
              "      box-shadow: 0px 1px 2px rgba(60, 64, 67, 0.3), 0px 1px 3px 1px rgba(60, 64, 67, 0.15);\n",
              "      fill: #174EA6;\n",
              "    }\n",
              "\n",
              "    .colab-df-buttons div {\n",
              "      margin-bottom: 4px;\n",
              "    }\n",
              "\n",
              "    [theme=dark] .colab-df-convert {\n",
              "      background-color: #3B4455;\n",
              "      fill: #D2E3FC;\n",
              "    }\n",
              "\n",
              "    [theme=dark] .colab-df-convert:hover {\n",
              "      background-color: #434B5C;\n",
              "      box-shadow: 0px 1px 3px 1px rgba(0, 0, 0, 0.15);\n",
              "      filter: drop-shadow(0px 1px 2px rgba(0, 0, 0, 0.3));\n",
              "      fill: #FFFFFF;\n",
              "    }\n",
              "  </style>\n",
              "\n",
              "    <script>\n",
              "      const buttonEl =\n",
              "        document.querySelector('#df-9204bdf5-7e93-4f56-8465-6f123328dd38 button.colab-df-convert');\n",
              "      buttonEl.style.display =\n",
              "        google.colab.kernel.accessAllowed ? 'block' : 'none';\n",
              "\n",
              "      async function convertToInteractive(key) {\n",
              "        const element = document.querySelector('#df-9204bdf5-7e93-4f56-8465-6f123328dd38');\n",
              "        const dataTable =\n",
              "          await google.colab.kernel.invokeFunction('convertToInteractive',\n",
              "                                                    [key], {});\n",
              "        if (!dataTable) return;\n",
              "\n",
              "        const docLinkHtml = 'Like what you see? Visit the ' +\n",
              "          '<a target=\"_blank\" href=https://colab.research.google.com/notebooks/data_table.ipynb>data table notebook</a>'\n",
              "          + ' to learn more about interactive tables.';\n",
              "        element.innerHTML = '';\n",
              "        dataTable['output_type'] = 'display_data';\n",
              "        await google.colab.output.renderOutput(dataTable, element);\n",
              "        const docLink = document.createElement('div');\n",
              "        docLink.innerHTML = docLinkHtml;\n",
              "        element.appendChild(docLink);\n",
              "      }\n",
              "    </script>\n",
              "  </div>\n",
              "\n",
              "\n",
              "    <div id=\"df-69a78e89-048c-4a1c-808b-7e966055b276\">\n",
              "      <button class=\"colab-df-quickchart\" onclick=\"quickchart('df-69a78e89-048c-4a1c-808b-7e966055b276')\"\n",
              "                title=\"Suggest charts\"\n",
              "                style=\"display:none;\">\n",
              "\n",
              "<svg xmlns=\"http://www.w3.org/2000/svg\" height=\"24px\"viewBox=\"0 0 24 24\"\n",
              "     width=\"24px\">\n",
              "    <g>\n",
              "        <path d=\"M19 3H5c-1.1 0-2 .9-2 2v14c0 1.1.9 2 2 2h14c1.1 0 2-.9 2-2V5c0-1.1-.9-2-2-2zM9 17H7v-7h2v7zm4 0h-2V7h2v10zm4 0h-2v-4h2v4z\"/>\n",
              "    </g>\n",
              "</svg>\n",
              "      </button>\n",
              "\n",
              "<style>\n",
              "  .colab-df-quickchart {\n",
              "      --bg-color: #E8F0FE;\n",
              "      --fill-color: #1967D2;\n",
              "      --hover-bg-color: #E2EBFA;\n",
              "      --hover-fill-color: #174EA6;\n",
              "      --disabled-fill-color: #AAA;\n",
              "      --disabled-bg-color: #DDD;\n",
              "  }\n",
              "\n",
              "  [theme=dark] .colab-df-quickchart {\n",
              "      --bg-color: #3B4455;\n",
              "      --fill-color: #D2E3FC;\n",
              "      --hover-bg-color: #434B5C;\n",
              "      --hover-fill-color: #FFFFFF;\n",
              "      --disabled-bg-color: #3B4455;\n",
              "      --disabled-fill-color: #666;\n",
              "  }\n",
              "\n",
              "  .colab-df-quickchart {\n",
              "    background-color: var(--bg-color);\n",
              "    border: none;\n",
              "    border-radius: 50%;\n",
              "    cursor: pointer;\n",
              "    display: none;\n",
              "    fill: var(--fill-color);\n",
              "    height: 32px;\n",
              "    padding: 0;\n",
              "    width: 32px;\n",
              "  }\n",
              "\n",
              "  .colab-df-quickchart:hover {\n",
              "    background-color: var(--hover-bg-color);\n",
              "    box-shadow: 0 1px 2px rgba(60, 64, 67, 0.3), 0 1px 3px 1px rgba(60, 64, 67, 0.15);\n",
              "    fill: var(--button-hover-fill-color);\n",
              "  }\n",
              "\n",
              "  .colab-df-quickchart-complete:disabled,\n",
              "  .colab-df-quickchart-complete:disabled:hover {\n",
              "    background-color: var(--disabled-bg-color);\n",
              "    fill: var(--disabled-fill-color);\n",
              "    box-shadow: none;\n",
              "  }\n",
              "\n",
              "  .colab-df-spinner {\n",
              "    border: 2px solid var(--fill-color);\n",
              "    border-color: transparent;\n",
              "    border-bottom-color: var(--fill-color);\n",
              "    animation:\n",
              "      spin 1s steps(1) infinite;\n",
              "  }\n",
              "\n",
              "  @keyframes spin {\n",
              "    0% {\n",
              "      border-color: transparent;\n",
              "      border-bottom-color: var(--fill-color);\n",
              "      border-left-color: var(--fill-color);\n",
              "    }\n",
              "    20% {\n",
              "      border-color: transparent;\n",
              "      border-left-color: var(--fill-color);\n",
              "      border-top-color: var(--fill-color);\n",
              "    }\n",
              "    30% {\n",
              "      border-color: transparent;\n",
              "      border-left-color: var(--fill-color);\n",
              "      border-top-color: var(--fill-color);\n",
              "      border-right-color: var(--fill-color);\n",
              "    }\n",
              "    40% {\n",
              "      border-color: transparent;\n",
              "      border-right-color: var(--fill-color);\n",
              "      border-top-color: var(--fill-color);\n",
              "    }\n",
              "    60% {\n",
              "      border-color: transparent;\n",
              "      border-right-color: var(--fill-color);\n",
              "    }\n",
              "    80% {\n",
              "      border-color: transparent;\n",
              "      border-right-color: var(--fill-color);\n",
              "      border-bottom-color: var(--fill-color);\n",
              "    }\n",
              "    90% {\n",
              "      border-color: transparent;\n",
              "      border-bottom-color: var(--fill-color);\n",
              "    }\n",
              "  }\n",
              "</style>\n",
              "\n",
              "      <script>\n",
              "        async function quickchart(key) {\n",
              "          const quickchartButtonEl =\n",
              "            document.querySelector('#' + key + ' button');\n",
              "          quickchartButtonEl.disabled = true;  // To prevent multiple clicks.\n",
              "          quickchartButtonEl.classList.add('colab-df-spinner');\n",
              "          try {\n",
              "            const charts = await google.colab.kernel.invokeFunction(\n",
              "                'suggestCharts', [key], {});\n",
              "          } catch (error) {\n",
              "            console.error('Error during call to suggestCharts:', error);\n",
              "          }\n",
              "          quickchartButtonEl.classList.remove('colab-df-spinner');\n",
              "          quickchartButtonEl.classList.add('colab-df-quickchart-complete');\n",
              "        }\n",
              "        (() => {\n",
              "          let quickchartButtonEl =\n",
              "            document.querySelector('#df-69a78e89-048c-4a1c-808b-7e966055b276 button');\n",
              "          quickchartButtonEl.style.display =\n",
              "            google.colab.kernel.accessAllowed ? 'block' : 'none';\n",
              "        })();\n",
              "      </script>\n",
              "    </div>\n",
              "\n",
              "    </div>\n",
              "  </div>\n"
            ],
            "application/vnd.google.colaboratory.intrinsic+json": {
              "type": "dataframe",
              "variable_name": "data",
              "summary": "{\n  \"name\": \"data\",\n  \"rows\": 145,\n  \"fields\": [\n    {\n      \"column\": \"Unnamed: 0\",\n      \"properties\": {\n        \"dtype\": \"number\",\n        \"std\": 42,\n        \"min\": 0,\n        \"max\": 144,\n        \"num_unique_values\": 145,\n        \"samples\": [\n          69,\n          140,\n          27\n        ],\n        \"semantic_type\": \"\",\n        \"description\": \"\"\n      }\n    },\n    {\n      \"column\": \"Id\",\n      \"properties\": {\n        \"dtype\": \"number\",\n        \"std\": 42,\n        \"min\": 5001,\n        \"max\": 5145,\n        \"num_unique_values\": 145,\n        \"samples\": [\n          5070,\n          5141,\n          5028\n        ],\n        \"semantic_type\": \"\",\n        \"description\": \"\"\n      }\n    },\n    {\n      \"column\": \"Student_Age\",\n      \"properties\": {\n        \"dtype\": \"number\",\n        \"std\": 1,\n        \"min\": 18,\n        \"max\": 26,\n        \"num_unique_values\": 9,\n        \"samples\": [\n          24,\n          20,\n          26\n        ],\n        \"semantic_type\": \"\",\n        \"description\": \"\"\n      }\n    },\n    {\n      \"column\": \"Sex\",\n      \"properties\": {\n        \"dtype\": \"category\",\n        \"num_unique_values\": 2,\n        \"samples\": [\n          \"Female\",\n          \"Male\"\n        ],\n        \"semantic_type\": \"\",\n        \"description\": \"\"\n      }\n    },\n    {\n      \"column\": \"High_School_Type\",\n      \"properties\": {\n        \"dtype\": \"category\",\n        \"num_unique_values\": 3,\n        \"samples\": [\n          \"Other\",\n          \"State\"\n        ],\n        \"semantic_type\": \"\",\n        \"description\": \"\"\n      }\n    },\n    {\n      \"column\": \"Scholarship\",\n      \"properties\": {\n        \"dtype\": \"category\",\n        \"num_unique_values\": 4,\n        \"samples\": [\n          \"75%\",\n          \"25%\"\n        ],\n        \"semantic_type\": \"\",\n        \"description\": \"\"\n      }\n    },\n    {\n      \"column\": \"Additional_Work\",\n      \"properties\": {\n        \"dtype\": \"category\",\n        \"num_unique_values\": 2,\n        \"samples\": [\n          \"No\",\n          \"Yes\"\n        ],\n        \"semantic_type\": \"\",\n        \"description\": \"\"\n      }\n    },\n    {\n      \"column\": \"Sports_activity\",\n      \"properties\": {\n        \"dtype\": \"category\",\n        \"num_unique_values\": 2,\n        \"samples\": [\n          \"Yes\",\n          \"No\"\n        ],\n        \"semantic_type\": \"\",\n        \"description\": \"\"\n      }\n    },\n    {\n      \"column\": \"Transportation\",\n      \"properties\": {\n        \"dtype\": \"category\",\n        \"num_unique_values\": 2,\n        \"samples\": [\n          \"Bus\",\n          \"Private\"\n        ],\n        \"semantic_type\": \"\",\n        \"description\": \"\"\n      }\n    },\n    {\n      \"column\": \"Weekly_Study_Hours\",\n      \"properties\": {\n        \"dtype\": \"number\",\n        \"std\": 4,\n        \"min\": 0,\n        \"max\": 12,\n        \"num_unique_values\": 4,\n        \"samples\": [\n          2,\n          8\n        ],\n        \"semantic_type\": \"\",\n        \"description\": \"\"\n      }\n    },\n    {\n      \"column\": \"Attendance\",\n      \"properties\": {\n        \"dtype\": \"category\",\n        \"num_unique_values\": 4,\n        \"samples\": [\n          \"Never\",\n          \"3\"\n        ],\n        \"semantic_type\": \"\",\n        \"description\": \"\"\n      }\n    },\n    {\n      \"column\": \"Reading\",\n      \"properties\": {\n        \"dtype\": \"category\",\n        \"num_unique_values\": 2,\n        \"samples\": [\n          \"No\",\n          \"Yes\"\n        ],\n        \"semantic_type\": \"\",\n        \"description\": \"\"\n      }\n    },\n    {\n      \"column\": \"Notes\",\n      \"properties\": {\n        \"dtype\": \"category\",\n        \"num_unique_values\": 3,\n        \"samples\": [\n          \"Yes\",\n          \"No\"\n        ],\n        \"semantic_type\": \"\",\n        \"description\": \"\"\n      }\n    },\n    {\n      \"column\": \"Listening_in_Class\",\n      \"properties\": {\n        \"dtype\": \"category\",\n        \"num_unique_values\": 3,\n        \"samples\": [\n          \"No\",\n          \"Yes\"\n        ],\n        \"semantic_type\": \"\",\n        \"description\": \"\"\n      }\n    },\n    {\n      \"column\": \"Project_work\",\n      \"properties\": {\n        \"dtype\": \"category\",\n        \"num_unique_values\": 2,\n        \"samples\": [\n          \"Yes\",\n          \"No\"\n        ],\n        \"semantic_type\": \"\",\n        \"description\": \"\"\n      }\n    },\n    {\n      \"column\": \"Grade\",\n      \"properties\": {\n        \"dtype\": \"category\",\n        \"num_unique_values\": 8,\n        \"samples\": [\n          \"BA\",\n          \"CB\"\n        ],\n        \"semantic_type\": \"\",\n        \"description\": \"\"\n      }\n    }\n  ]\n}"
            }
          },
          "metadata": {},
          "execution_count": 3
        }
      ]
    },
    {
      "cell_type": "code",
      "source": [
        "print(data.shape)"
      ],
      "metadata": {
        "colab": {
          "base_uri": "https://localhost:8080/"
        },
        "id": "Z2GXIfyIJxvv",
        "outputId": "820dff81-3e75-4aad-90c6-6ac610943790"
      },
      "execution_count": 4,
      "outputs": [
        {
          "output_type": "stream",
          "name": "stdout",
          "text": [
            "(145, 16)\n"
          ]
        }
      ]
    },
    {
      "cell_type": "code",
      "source": [
        "data.info()"
      ],
      "metadata": {
        "colab": {
          "base_uri": "https://localhost:8080/"
        },
        "id": "zR7IIXHdJ7eF",
        "outputId": "d7c4185b-3ef6-4bd5-f14f-bde8d801aecc"
      },
      "execution_count": 5,
      "outputs": [
        {
          "output_type": "stream",
          "name": "stdout",
          "text": [
            "<class 'pandas.core.frame.DataFrame'>\n",
            "RangeIndex: 145 entries, 0 to 144\n",
            "Data columns (total 16 columns):\n",
            " #   Column              Non-Null Count  Dtype \n",
            "---  ------              --------------  ----- \n",
            " 0   Unnamed: 0          145 non-null    int64 \n",
            " 1   Id                  145 non-null    int64 \n",
            " 2   Student_Age         145 non-null    int64 \n",
            " 3   Sex                 145 non-null    object\n",
            " 4   High_School_Type    145 non-null    object\n",
            " 5   Scholarship         144 non-null    object\n",
            " 6   Additional_Work     145 non-null    object\n",
            " 7   Sports_activity     145 non-null    object\n",
            " 8   Transportation      145 non-null    object\n",
            " 9   Weekly_Study_Hours  145 non-null    int64 \n",
            " 10  Attendance          145 non-null    object\n",
            " 11  Reading             145 non-null    object\n",
            " 12  Notes               145 non-null    object\n",
            " 13  Listening_in_Class  145 non-null    object\n",
            " 14  Project_work        145 non-null    object\n",
            " 15  Grade               145 non-null    object\n",
            "dtypes: int64(4), object(12)\n",
            "memory usage: 18.3+ KB\n"
          ]
        }
      ]
    },
    {
      "cell_type": "code",
      "source": [
        "# Check for missing values\n",
        "print(data.isnull().sum())"
      ],
      "metadata": {
        "colab": {
          "base_uri": "https://localhost:8080/"
        },
        "id": "QI01J757KAn0",
        "outputId": "0b15f838-d615-4d40-b611-7bdf77e72a0b"
      },
      "execution_count": 6,
      "outputs": [
        {
          "output_type": "stream",
          "name": "stdout",
          "text": [
            "Unnamed: 0            0\n",
            "Id                    0\n",
            "Student_Age           0\n",
            "Sex                   0\n",
            "High_School_Type      0\n",
            "Scholarship           1\n",
            "Additional_Work       0\n",
            "Sports_activity       0\n",
            "Transportation        0\n",
            "Weekly_Study_Hours    0\n",
            "Attendance            0\n",
            "Reading               0\n",
            "Notes                 0\n",
            "Listening_in_Class    0\n",
            "Project_work          0\n",
            "Grade                 0\n",
            "dtype: int64\n"
          ]
        }
      ]
    },
    {
      "cell_type": "markdown",
      "source": [
        "* There is one missing value in the Scholorship column."
      ],
      "metadata": {
        "id": "Q1iSNcZmKamc"
      }
    },
    {
      "cell_type": "code",
      "source": [
        "data['Scholarship'].unique()"
      ],
      "metadata": {
        "colab": {
          "base_uri": "https://localhost:8080/"
        },
        "id": "KheqIeudKSdp",
        "outputId": "eb1676c6-c1d2-463e-fa4a-52f7a998e6b4"
      },
      "execution_count": 7,
      "outputs": [
        {
          "output_type": "execute_result",
          "data": {
            "text/plain": [
              "array(['50%', '75%', '100%', '25%', nan], dtype=object)"
            ]
          },
          "metadata": {},
          "execution_count": 7
        }
      ]
    },
    {
      "cell_type": "code",
      "source": [
        "# Check unique values per columns\n",
        "for col in data.columns:\n",
        "    print(f\"{col}: {data[col].nunique()} unique values\")"
      ],
      "metadata": {
        "colab": {
          "base_uri": "https://localhost:8080/"
        },
        "id": "at4m8hV1KgQG",
        "outputId": "01b7028b-41f3-4800-a132-cc2b49fd816f"
      },
      "execution_count": 8,
      "outputs": [
        {
          "output_type": "stream",
          "name": "stdout",
          "text": [
            "Unnamed: 0: 145 unique values\n",
            "Id: 145 unique values\n",
            "Student_Age: 9 unique values\n",
            "Sex: 2 unique values\n",
            "High_School_Type: 3 unique values\n",
            "Scholarship: 4 unique values\n",
            "Additional_Work: 2 unique values\n",
            "Sports_activity: 2 unique values\n",
            "Transportation: 2 unique values\n",
            "Weekly_Study_Hours: 4 unique values\n",
            "Attendance: 4 unique values\n",
            "Reading: 2 unique values\n",
            "Notes: 3 unique values\n",
            "Listening_in_Class: 3 unique values\n",
            "Project_work: 2 unique values\n",
            "Grade: 8 unique values\n"
          ]
        }
      ]
    },
    {
      "cell_type": "markdown",
      "source": [
        "## Statistical summery of the dataset"
      ],
      "metadata": {
        "id": "lBflgaFRK0ay"
      }
    },
    {
      "cell_type": "code",
      "source": [
        "data.describe()"
      ],
      "metadata": {
        "colab": {
          "base_uri": "https://localhost:8080/",
          "height": 300
        },
        "id": "T-PBwQDoKq5d",
        "outputId": "78cbd2d2-c506-4beb-fe9e-159143a40db9"
      },
      "execution_count": 9,
      "outputs": [
        {
          "output_type": "execute_result",
          "data": {
            "text/plain": [
              "       Unnamed: 0           Id  Student_Age  Weekly_Study_Hours\n",
              "count  145.000000   145.000000   145.000000          145.000000\n",
              "mean    72.000000  5073.000000    19.682759            2.331034\n",
              "std     42.001984    42.001984     1.992010            4.249273\n",
              "min      0.000000  5001.000000    18.000000            0.000000\n",
              "25%     36.000000  5037.000000    18.000000            0.000000\n",
              "50%     72.000000  5073.000000    19.000000            0.000000\n",
              "75%    108.000000  5109.000000    21.000000            2.000000\n",
              "max    144.000000  5145.000000    26.000000           12.000000"
            ],
            "text/html": [
              "\n",
              "  <div id=\"df-d3b4b23f-cbe9-4038-a1db-0787fafd4b03\" class=\"colab-df-container\">\n",
              "    <div>\n",
              "<style scoped>\n",
              "    .dataframe tbody tr th:only-of-type {\n",
              "        vertical-align: middle;\n",
              "    }\n",
              "\n",
              "    .dataframe tbody tr th {\n",
              "        vertical-align: top;\n",
              "    }\n",
              "\n",
              "    .dataframe thead th {\n",
              "        text-align: right;\n",
              "    }\n",
              "</style>\n",
              "<table border=\"1\" class=\"dataframe\">\n",
              "  <thead>\n",
              "    <tr style=\"text-align: right;\">\n",
              "      <th></th>\n",
              "      <th>Unnamed: 0</th>\n",
              "      <th>Id</th>\n",
              "      <th>Student_Age</th>\n",
              "      <th>Weekly_Study_Hours</th>\n",
              "    </tr>\n",
              "  </thead>\n",
              "  <tbody>\n",
              "    <tr>\n",
              "      <th>count</th>\n",
              "      <td>145.000000</td>\n",
              "      <td>145.000000</td>\n",
              "      <td>145.000000</td>\n",
              "      <td>145.000000</td>\n",
              "    </tr>\n",
              "    <tr>\n",
              "      <th>mean</th>\n",
              "      <td>72.000000</td>\n",
              "      <td>5073.000000</td>\n",
              "      <td>19.682759</td>\n",
              "      <td>2.331034</td>\n",
              "    </tr>\n",
              "    <tr>\n",
              "      <th>std</th>\n",
              "      <td>42.001984</td>\n",
              "      <td>42.001984</td>\n",
              "      <td>1.992010</td>\n",
              "      <td>4.249273</td>\n",
              "    </tr>\n",
              "    <tr>\n",
              "      <th>min</th>\n",
              "      <td>0.000000</td>\n",
              "      <td>5001.000000</td>\n",
              "      <td>18.000000</td>\n",
              "      <td>0.000000</td>\n",
              "    </tr>\n",
              "    <tr>\n",
              "      <th>25%</th>\n",
              "      <td>36.000000</td>\n",
              "      <td>5037.000000</td>\n",
              "      <td>18.000000</td>\n",
              "      <td>0.000000</td>\n",
              "    </tr>\n",
              "    <tr>\n",
              "      <th>50%</th>\n",
              "      <td>72.000000</td>\n",
              "      <td>5073.000000</td>\n",
              "      <td>19.000000</td>\n",
              "      <td>0.000000</td>\n",
              "    </tr>\n",
              "    <tr>\n",
              "      <th>75%</th>\n",
              "      <td>108.000000</td>\n",
              "      <td>5109.000000</td>\n",
              "      <td>21.000000</td>\n",
              "      <td>2.000000</td>\n",
              "    </tr>\n",
              "    <tr>\n",
              "      <th>max</th>\n",
              "      <td>144.000000</td>\n",
              "      <td>5145.000000</td>\n",
              "      <td>26.000000</td>\n",
              "      <td>12.000000</td>\n",
              "    </tr>\n",
              "  </tbody>\n",
              "</table>\n",
              "</div>\n",
              "    <div class=\"colab-df-buttons\">\n",
              "\n",
              "  <div class=\"colab-df-container\">\n",
              "    <button class=\"colab-df-convert\" onclick=\"convertToInteractive('df-d3b4b23f-cbe9-4038-a1db-0787fafd4b03')\"\n",
              "            title=\"Convert this dataframe to an interactive table.\"\n",
              "            style=\"display:none;\">\n",
              "\n",
              "  <svg xmlns=\"http://www.w3.org/2000/svg\" height=\"24px\" viewBox=\"0 -960 960 960\">\n",
              "    <path d=\"M120-120v-720h720v720H120Zm60-500h600v-160H180v160Zm220 220h160v-160H400v160Zm0 220h160v-160H400v160ZM180-400h160v-160H180v160Zm440 0h160v-160H620v160ZM180-180h160v-160H180v160Zm440 0h160v-160H620v160Z\"/>\n",
              "  </svg>\n",
              "    </button>\n",
              "\n",
              "  <style>\n",
              "    .colab-df-container {\n",
              "      display:flex;\n",
              "      gap: 12px;\n",
              "    }\n",
              "\n",
              "    .colab-df-convert {\n",
              "      background-color: #E8F0FE;\n",
              "      border: none;\n",
              "      border-radius: 50%;\n",
              "      cursor: pointer;\n",
              "      display: none;\n",
              "      fill: #1967D2;\n",
              "      height: 32px;\n",
              "      padding: 0 0 0 0;\n",
              "      width: 32px;\n",
              "    }\n",
              "\n",
              "    .colab-df-convert:hover {\n",
              "      background-color: #E2EBFA;\n",
              "      box-shadow: 0px 1px 2px rgba(60, 64, 67, 0.3), 0px 1px 3px 1px rgba(60, 64, 67, 0.15);\n",
              "      fill: #174EA6;\n",
              "    }\n",
              "\n",
              "    .colab-df-buttons div {\n",
              "      margin-bottom: 4px;\n",
              "    }\n",
              "\n",
              "    [theme=dark] .colab-df-convert {\n",
              "      background-color: #3B4455;\n",
              "      fill: #D2E3FC;\n",
              "    }\n",
              "\n",
              "    [theme=dark] .colab-df-convert:hover {\n",
              "      background-color: #434B5C;\n",
              "      box-shadow: 0px 1px 3px 1px rgba(0, 0, 0, 0.15);\n",
              "      filter: drop-shadow(0px 1px 2px rgba(0, 0, 0, 0.3));\n",
              "      fill: #FFFFFF;\n",
              "    }\n",
              "  </style>\n",
              "\n",
              "    <script>\n",
              "      const buttonEl =\n",
              "        document.querySelector('#df-d3b4b23f-cbe9-4038-a1db-0787fafd4b03 button.colab-df-convert');\n",
              "      buttonEl.style.display =\n",
              "        google.colab.kernel.accessAllowed ? 'block' : 'none';\n",
              "\n",
              "      async function convertToInteractive(key) {\n",
              "        const element = document.querySelector('#df-d3b4b23f-cbe9-4038-a1db-0787fafd4b03');\n",
              "        const dataTable =\n",
              "          await google.colab.kernel.invokeFunction('convertToInteractive',\n",
              "                                                    [key], {});\n",
              "        if (!dataTable) return;\n",
              "\n",
              "        const docLinkHtml = 'Like what you see? Visit the ' +\n",
              "          '<a target=\"_blank\" href=https://colab.research.google.com/notebooks/data_table.ipynb>data table notebook</a>'\n",
              "          + ' to learn more about interactive tables.';\n",
              "        element.innerHTML = '';\n",
              "        dataTable['output_type'] = 'display_data';\n",
              "        await google.colab.output.renderOutput(dataTable, element);\n",
              "        const docLink = document.createElement('div');\n",
              "        docLink.innerHTML = docLinkHtml;\n",
              "        element.appendChild(docLink);\n",
              "      }\n",
              "    </script>\n",
              "  </div>\n",
              "\n",
              "\n",
              "    <div id=\"df-db4c574b-eb5f-4295-9250-b28d420e6ba9\">\n",
              "      <button class=\"colab-df-quickchart\" onclick=\"quickchart('df-db4c574b-eb5f-4295-9250-b28d420e6ba9')\"\n",
              "                title=\"Suggest charts\"\n",
              "                style=\"display:none;\">\n",
              "\n",
              "<svg xmlns=\"http://www.w3.org/2000/svg\" height=\"24px\"viewBox=\"0 0 24 24\"\n",
              "     width=\"24px\">\n",
              "    <g>\n",
              "        <path d=\"M19 3H5c-1.1 0-2 .9-2 2v14c0 1.1.9 2 2 2h14c1.1 0 2-.9 2-2V5c0-1.1-.9-2-2-2zM9 17H7v-7h2v7zm4 0h-2V7h2v10zm4 0h-2v-4h2v4z\"/>\n",
              "    </g>\n",
              "</svg>\n",
              "      </button>\n",
              "\n",
              "<style>\n",
              "  .colab-df-quickchart {\n",
              "      --bg-color: #E8F0FE;\n",
              "      --fill-color: #1967D2;\n",
              "      --hover-bg-color: #E2EBFA;\n",
              "      --hover-fill-color: #174EA6;\n",
              "      --disabled-fill-color: #AAA;\n",
              "      --disabled-bg-color: #DDD;\n",
              "  }\n",
              "\n",
              "  [theme=dark] .colab-df-quickchart {\n",
              "      --bg-color: #3B4455;\n",
              "      --fill-color: #D2E3FC;\n",
              "      --hover-bg-color: #434B5C;\n",
              "      --hover-fill-color: #FFFFFF;\n",
              "      --disabled-bg-color: #3B4455;\n",
              "      --disabled-fill-color: #666;\n",
              "  }\n",
              "\n",
              "  .colab-df-quickchart {\n",
              "    background-color: var(--bg-color);\n",
              "    border: none;\n",
              "    border-radius: 50%;\n",
              "    cursor: pointer;\n",
              "    display: none;\n",
              "    fill: var(--fill-color);\n",
              "    height: 32px;\n",
              "    padding: 0;\n",
              "    width: 32px;\n",
              "  }\n",
              "\n",
              "  .colab-df-quickchart:hover {\n",
              "    background-color: var(--hover-bg-color);\n",
              "    box-shadow: 0 1px 2px rgba(60, 64, 67, 0.3), 0 1px 3px 1px rgba(60, 64, 67, 0.15);\n",
              "    fill: var(--button-hover-fill-color);\n",
              "  }\n",
              "\n",
              "  .colab-df-quickchart-complete:disabled,\n",
              "  .colab-df-quickchart-complete:disabled:hover {\n",
              "    background-color: var(--disabled-bg-color);\n",
              "    fill: var(--disabled-fill-color);\n",
              "    box-shadow: none;\n",
              "  }\n",
              "\n",
              "  .colab-df-spinner {\n",
              "    border: 2px solid var(--fill-color);\n",
              "    border-color: transparent;\n",
              "    border-bottom-color: var(--fill-color);\n",
              "    animation:\n",
              "      spin 1s steps(1) infinite;\n",
              "  }\n",
              "\n",
              "  @keyframes spin {\n",
              "    0% {\n",
              "      border-color: transparent;\n",
              "      border-bottom-color: var(--fill-color);\n",
              "      border-left-color: var(--fill-color);\n",
              "    }\n",
              "    20% {\n",
              "      border-color: transparent;\n",
              "      border-left-color: var(--fill-color);\n",
              "      border-top-color: var(--fill-color);\n",
              "    }\n",
              "    30% {\n",
              "      border-color: transparent;\n",
              "      border-left-color: var(--fill-color);\n",
              "      border-top-color: var(--fill-color);\n",
              "      border-right-color: var(--fill-color);\n",
              "    }\n",
              "    40% {\n",
              "      border-color: transparent;\n",
              "      border-right-color: var(--fill-color);\n",
              "      border-top-color: var(--fill-color);\n",
              "    }\n",
              "    60% {\n",
              "      border-color: transparent;\n",
              "      border-right-color: var(--fill-color);\n",
              "    }\n",
              "    80% {\n",
              "      border-color: transparent;\n",
              "      border-right-color: var(--fill-color);\n",
              "      border-bottom-color: var(--fill-color);\n",
              "    }\n",
              "    90% {\n",
              "      border-color: transparent;\n",
              "      border-bottom-color: var(--fill-color);\n",
              "    }\n",
              "  }\n",
              "</style>\n",
              "\n",
              "      <script>\n",
              "        async function quickchart(key) {\n",
              "          const quickchartButtonEl =\n",
              "            document.querySelector('#' + key + ' button');\n",
              "          quickchartButtonEl.disabled = true;  // To prevent multiple clicks.\n",
              "          quickchartButtonEl.classList.add('colab-df-spinner');\n",
              "          try {\n",
              "            const charts = await google.colab.kernel.invokeFunction(\n",
              "                'suggestCharts', [key], {});\n",
              "          } catch (error) {\n",
              "            console.error('Error during call to suggestCharts:', error);\n",
              "          }\n",
              "          quickchartButtonEl.classList.remove('colab-df-spinner');\n",
              "          quickchartButtonEl.classList.add('colab-df-quickchart-complete');\n",
              "        }\n",
              "        (() => {\n",
              "          let quickchartButtonEl =\n",
              "            document.querySelector('#df-db4c574b-eb5f-4295-9250-b28d420e6ba9 button');\n",
              "          quickchartButtonEl.style.display =\n",
              "            google.colab.kernel.accessAllowed ? 'block' : 'none';\n",
              "        })();\n",
              "      </script>\n",
              "    </div>\n",
              "\n",
              "    </div>\n",
              "  </div>\n"
            ],
            "application/vnd.google.colaboratory.intrinsic+json": {
              "type": "dataframe",
              "summary": "{\n  \"name\": \"data\",\n  \"rows\": 8,\n  \"fields\": [\n    {\n      \"column\": \"Unnamed: 0\",\n      \"properties\": {\n        \"dtype\": \"number\",\n        \"std\": 52.04082824334865,\n        \"min\": 0.0,\n        \"max\": 145.0,\n        \"num_unique_values\": 7,\n        \"samples\": [\n          145.0,\n          72.0,\n          108.0\n        ],\n        \"semantic_type\": \"\",\n        \"description\": \"\"\n      }\n    },\n    {\n      \"column\": \"Id\",\n      \"properties\": {\n        \"dtype\": \"number\",\n        \"std\": 2305.6260337039157,\n        \"min\": 42.00198408012015,\n        \"max\": 5145.0,\n        \"num_unique_values\": 7,\n        \"samples\": [\n          145.0,\n          5073.0,\n          5109.0\n        ],\n        \"semantic_type\": \"\",\n        \"description\": \"\"\n      }\n    },\n    {\n      \"column\": \"Student_Age\",\n      \"properties\": {\n        \"dtype\": \"number\",\n        \"std\": 45.54293529234951,\n        \"min\": 1.9920099016510577,\n        \"max\": 145.0,\n        \"num_unique_values\": 7,\n        \"samples\": [\n          145.0,\n          19.682758620689654,\n          21.0\n        ],\n        \"semantic_type\": \"\",\n        \"description\": \"\"\n      }\n    },\n    {\n      \"column\": \"Weekly_Study_Hours\",\n      \"properties\": {\n        \"dtype\": \"number\",\n        \"std\": 50.38336638981193,\n        \"min\": 0.0,\n        \"max\": 145.0,\n        \"num_unique_values\": 6,\n        \"samples\": [\n          145.0,\n          2.331034482758621,\n          12.0\n        ],\n        \"semantic_type\": \"\",\n        \"description\": \"\"\n      }\n    }\n  ]\n}"
            }
          },
          "metadata": {},
          "execution_count": 9
        }
      ]
    },
    {
      "cell_type": "code",
      "source": [
        "# Drop the Unnecessary Columns\n",
        "cols_to_drop = ['Id', 'Unnamed: 0']\n",
        "data.drop(columns=[col for col in cols_to_drop if col in data.columns], inplace=True)"
      ],
      "metadata": {
        "id": "C7xfvdGqK_6b"
      },
      "execution_count": 10,
      "outputs": []
    },
    {
      "cell_type": "markdown",
      "source": [
        "# Exploratory data analysis\n",
        "\n",
        "## Univariate analysis\n",
        "\n",
        "# Explore the numeric variables"
      ],
      "metadata": {
        "id": "Cim5F-yJLM5L"
      }
    },
    {
      "cell_type": "code",
      "source": [
        "# Observation on Student_Age\n",
        "sns.histplot(data, x='Student_Age')\n",
        "plt.show()\n",
        "sns.boxplot(data, x='Student_Age')\n",
        "plt.show()"
      ],
      "metadata": {
        "colab": {
          "base_uri": "https://localhost:8080/",
          "height": 883
        },
        "id": "EOJ70szYLILW",
        "outputId": "e19f98e4-b9d3-4363-e245-fac094b7ffa5"
      },
      "execution_count": 11,
      "outputs": [
        {
          "output_type": "display_data",
          "data": {
            "text/plain": [
              "<Figure size 640x480 with 1 Axes>"
            ],
            "image/png": "[encoded data removed]"
          },
          "metadata": {}
        },
        {
          "output_type": "display_data",
          "data": {
            "text/plain": [
              "<Figure size 640x480 with 1 Axes>"
            ],
            "image/png": "[encoded data removed]"
          },
          "metadata": {}
        }
      ]
    },
    {
      "cell_type": "markdown",
      "source": [
        "* Most students are aged between 18 to 24 years.\n",
        "One outlier is present around age 26.\n",
        "* Median age is close to 19-20, which is typical for undergraduate students.\n",
        "* No serious skew, age distribution is fairly compact."
      ],
      "metadata": {
        "id": "0mukp1h8MKMR"
      }
    },
    {
      "cell_type": "code",
      "source": [
        "# Observation on Weekly_Study_Hours\n",
        "sns.histplot(data, x='Weekly_Study_Hours')\n",
        "plt.show()\n",
        "sns.boxplot(data, x='Weekly_Study_Hours')\n",
        "plt.show()"
      ],
      "metadata": {
        "colab": {
          "base_uri": "https://localhost:8080/",
          "height": 883
        },
        "id": "TFgHKl_7MCB-",
        "outputId": "e226c331-ce0b-48f9-cab3-fc2399ad1e63"
      },
      "execution_count": 12,
      "outputs": [
        {
          "output_type": "display_data",
          "data": {
            "text/plain": [
              "<Figure size 640x480 with 1 Axes>"
            ],
            "image/png": "[encoded data removed]"
          },
          "metadata": {}
        },
        {
          "output_type": "display_data",
          "data": {
            "text/plain": [
              "<Figure size 640x480 with 1 Axes>"
            ],
            "image/png": "[encoded data removed]"
          },
          "metadata": {}
        }
      ]
    },
    {
      "cell_type": "markdown",
      "source": [
        "* A large number of students study 0-2 hours per week, which could indicate lack of study habits or under-reporting.\n",
        "* Few spikes at 8 and 12 hours suggest some students are more disciplined.\n",
        "\n",
        "\n",
        "### Explore the categorical variables"
      ],
      "metadata": {
        "id": "ggOgA2WeMSdS"
      }
    },
    {
      "cell_type": "code",
      "source": [
        "sns.countplot(data, x='Sex');"
      ],
      "metadata": {
        "colab": {
          "base_uri": "https://localhost:8080/",
          "height": 449
        },
        "id": "pibhSGy4MYb6",
        "outputId": "a1cd3953-e7a3-4e3f-ebf2-e596245f90bf"
      },
      "execution_count": 13,
      "outputs": [
        {
          "output_type": "display_data",
          "data": {
            "text/plain": [
              "<Figure size 640x480 with 1 Axes>"
            ],
            "image/png": "[encoded data removed]"
          },
          "metadata": {}
        }
      ]
    },
    {
      "cell_type": "markdown",
      "source": [
        "* More male students are present compare to female students.\n",
        "* Gender imbalence may slightly bias career prediction results if not handled properly."
      ],
      "metadata": {
        "id": "uA8ptZ6uMhLN"
      }
    },
    {
      "cell_type": "code",
      "source": [
        "# Observation on High_School_Type\n",
        "sns.countplot(data, x='High_School_Type');"
      ],
      "metadata": {
        "colab": {
          "base_uri": "https://localhost:8080/",
          "height": 450
        },
        "id": "-PZhXF8vMcFT",
        "outputId": "1dfec5c5-527a-4ff9-f9c1-ec3020727db8"
      },
      "execution_count": 14,
      "outputs": [
        {
          "output_type": "display_data",
          "data": {
            "text/plain": [
              "<Figure size 640x480 with 1 Axes>"
            ],
            "image/png": "[encoded data removed]"
          },
          "metadata": {}
        }
      ]
    },
    {
      "cell_type": "markdown",
      "source": [
        "* Most students came from state schools, followed by Private, then other."
      ],
      "metadata": {
        "id": "06yk3ce9MnVv"
      }
    },
    {
      "cell_type": "code",
      "source": [
        "# Observation on Scholarsip\n",
        "sns.countplot(data, x='Scholarship');"
      ],
      "metadata": {
        "colab": {
          "base_uri": "https://localhost:8080/",
          "height": 449
        },
        "id": "sCX2OmpcMmjM",
        "outputId": "d0744399-4891-40fd-eee0-c70276fd6cfa"
      },
      "execution_count": 15,
      "outputs": [
        {
          "output_type": "display_data",
          "data": {
            "text/plain": [
              "<Figure size 640x480 with 1 Axes>"
            ],
            "image/png": "[encoded data removed]"
          },
          "metadata": {}
        }
      ]
    },
    {
      "cell_type": "markdown",
      "source": [
        "* Most students have 50% or 75% scholarships, with very few getting only 25%.\n",
        "* This could indicate academic merit or financial need."
      ],
      "metadata": {
        "id": "RhDXZSdwM91M"
      }
    },
    {
      "cell_type": "code",
      "source": [
        "# Observation on Additional_Work\n",
        "sns.countplot(data, x='Additional_Work');"
      ],
      "metadata": {
        "colab": {
          "base_uri": "https://localhost:8080/",
          "height": 452
        },
        "id": "ZJa7MduJM6NY",
        "outputId": "218d5b30-05d7-48f5-ed0a-0b2f841ba56c"
      },
      "execution_count": 16,
      "outputs": [
        {
          "output_type": "display_data",
          "data": {
            "text/plain": [
              "<Figure size 640x480 with 1 Axes>"
            ],
            "image/png": "[encoded data removed]"
          },
          "metadata": {}
        }
      ]
    },
    {
      "cell_type": "markdown",
      "source": [
        "* Majority of students do not work while studying.\n",
        "* Around 1/3rd are working, which could impact their academic focus or career choices."
      ],
      "metadata": {
        "id": "6gDa58TXNC9u"
      }
    },
    {
      "cell_type": "code",
      "source": [
        "# Observation on Sports_activity\n",
        "sns.countplot(data, x='Sports_activity');"
      ],
      "metadata": {
        "colab": {
          "base_uri": "https://localhost:8080/",
          "height": 450
        },
        "id": "ZJhvHOKQNCPI",
        "outputId": "c9d1290e-4ce9-4154-91dd-22b8108096b9"
      },
      "execution_count": 17,
      "outputs": [
        {
          "output_type": "display_data",
          "data": {
            "text/plain": [
              "<Figure size 640x480 with 1 Axes>"
            ],
            "image/png": "[encoded data removed]"
          },
          "metadata": {}
        }
      ]
    },
    {
      "cell_type": "markdown",
      "source": [
        "* Majority of students do not participate in sports.\n",
        "* Those who do may have better soft skills, teamwork, or discipline possibly impacting career fit."
      ],
      "metadata": {
        "id": "WIYG1hmQNOSl"
      }
    },
    {
      "cell_type": "code",
      "source": [
        "# Observation on Transportation\n",
        "sns.countplot(data, x='Transportation');"
      ],
      "metadata": {
        "colab": {
          "base_uri": "https://localhost:8080/",
          "height": 449
        },
        "id": "X0TEcm6nNJzw",
        "outputId": "528979ef-6c61-40d2-fb57-ef4f125c1998"
      },
      "execution_count": 18,
      "outputs": [
        {
          "output_type": "display_data",
          "data": {
            "text/plain": [
              "<Figure size 640x480 with 1 Axes>"
            ],
            "image/png": "[encoded data removed]"
          },
          "metadata": {}
        }
      ]
    },
    {
      "cell_type": "markdown",
      "source": [
        "* Most students use private transportation and the rest use buses.\n",
        "* This may reflect socio-economic background but might have weak correlation with career."
      ],
      "metadata": {
        "id": "JqeArzUcNVjI"
      }
    },
    {
      "cell_type": "code",
      "source": [
        "# Observation on Attendance\n",
        "sns.countplot(data, x='Attendance');"
      ],
      "metadata": {
        "colab": {
          "base_uri": "https://localhost:8080/",
          "height": 449
        },
        "id": "Esi4LsrZNRKh",
        "outputId": "8fdf0603-e176-455f-c086-d543cbe97256"
      },
      "execution_count": 19,
      "outputs": [
        {
          "output_type": "display_data",
          "data": {
            "text/plain": [
              "<Figure size 640x480 with 1 Axes>"
            ],
            "image/png": "[encoded data removed]"
          },
          "metadata": {}
        }
      ]
    },
    {
      "cell_type": "markdown",
      "source": [
        "* 95% of the students attend classes regularly.\n",
        "* 3 indicates outlier or misleading shoud be removed or corrected."
      ],
      "metadata": {
        "id": "FQaOx1BsNdpJ"
      }
    },
    {
      "cell_type": "code",
      "source": [
        "# Observation on Reading\n",
        "sns.countplot(data, x='Reading');"
      ],
      "metadata": {
        "colab": {
          "base_uri": "https://localhost:8080/",
          "height": 449
        },
        "id": "vSBEHvksNZlX",
        "outputId": "f2b041fb-8e7f-4a96-da50-b4ea794c286f"
      },
      "execution_count": 20,
      "outputs": [
        {
          "output_type": "display_data",
          "data": {
            "text/plain": [
              "<Figure size 640x480 with 1 Axes>"
            ],
            "image/png": "[encoded data removed]"
          },
          "metadata": {}
        }
      ]
    },
    {
      "cell_type": "markdown",
      "source": [
        "* number of people reading the book is slightly low compare to students does not reading."
      ],
      "metadata": {
        "id": "x4v3_zrTNlej"
      }
    },
    {
      "cell_type": "code",
      "source": [
        "# Observation on Notes\n",
        "sns.countplot(data, x='Notes');"
      ],
      "metadata": {
        "colab": {
          "base_uri": "https://localhost:8080/",
          "height": 451
        },
        "id": "yvQYasUhNc3D",
        "outputId": "05f1c086-bef2-4a5b-eaaf-7d061e2ba0fe"
      },
      "execution_count": 21,
      "outputs": [
        {
          "output_type": "display_data",
          "data": {
            "text/plain": [
              "<Figure size 640x480 with 1 Axes>"
            ],
            "image/png": "[encoded data removed]"
          },
          "metadata": {}
        }
      ]
    },
    {
      "cell_type": "markdown",
      "source": [
        "* More people take notes compare to people who don't take notes.\n",
        "* 6 should be removed."
      ],
      "metadata": {
        "id": "LAzHI357NzW0"
      }
    },
    {
      "cell_type": "code",
      "source": [
        "# Observation on Listening_in_Class\n",
        "sns.countplot(data, x='Listening_in_Class');"
      ],
      "metadata": {
        "colab": {
          "base_uri": "https://localhost:8080/",
          "height": 450
        },
        "id": "3rF42HPaNywL",
        "outputId": "8fd6cf21-a255-41ba-86da-fccf52d8b5e2"
      },
      "execution_count": 22,
      "outputs": [
        {
          "output_type": "display_data",
          "data": {
            "text/plain": [
              "<Figure size 640x480 with 1 Axes>"
            ],
            "image/png": "[encoded data removed]"
          },
          "metadata": {}
        }
      ]
    },
    {
      "cell_type": "markdown",
      "source": [
        "* Mejority of the people listening the class and 6 maybe be indicates unknown, it should be rearrange"
      ],
      "metadata": {
        "id": "ItkO7ZTVN8UJ"
      }
    },
    {
      "cell_type": "code",
      "source": [
        "# Observation on Project_work\n",
        "sns.countplot(data, x='Project_work');"
      ],
      "metadata": {
        "colab": {
          "base_uri": "https://localhost:8080/",
          "height": 450
        },
        "id": "alUPuT2eN7f0",
        "outputId": "9e333f10-95e0-49ce-a65a-6545dbbb2768"
      },
      "execution_count": 23,
      "outputs": [
        {
          "output_type": "display_data",
          "data": {
            "text/plain": [
              "<Figure size 640x480 with 1 Axes>"
            ],
            "image/png": "[encoded data removed]"
          },
          "metadata": {}
        }
      ]
    },
    {
      "cell_type": "markdown",
      "source": [
        "* equal number of people work with project and not."
      ],
      "metadata": {
        "id": "vY4KSQjXOKPr"
      }
    },
    {
      "cell_type": "code",
      "source": [
        "# Observation on Grade\n",
        "sns.countplot(data, x='Grade');"
      ],
      "metadata": {
        "colab": {
          "base_uri": "https://localhost:8080/",
          "height": 449
        },
        "id": "Pq--sDFJOD8u",
        "outputId": "348cde1e-3cfb-4e98-ad7f-53f762894b1a"
      },
      "execution_count": 24,
      "outputs": [
        {
          "output_type": "display_data",
          "data": {
            "text/plain": [
              "<Figure size 640x480 with 1 Axes>"
            ],
            "image/png": "[encoded data removed]"
          },
          "metadata": {}
        }
      ]
    },
    {
      "cell_type": "markdown",
      "source": [
        "* Mejority of the most of the students are getting full AA and very less students are fail in exam.\n",
        "\n",
        "## Bivariate Data Analysis"
      ],
      "metadata": {
        "id": "O_ksVgOqOUiz"
      }
    },
    {
      "cell_type": "code",
      "source": [
        "sns.countplot(x='Grade', hue='Sex', data=data)\n",
        "plt.title('Grade vs Sex')\n",
        "plt.show()"
      ],
      "metadata": {
        "colab": {
          "base_uri": "https://localhost:8080/",
          "height": 472
        },
        "id": "pDixTuQ0OOCk",
        "outputId": "d788a5aa-a516-487c-c6d1-7ce8df84e1f1"
      },
      "execution_count": 25,
      "outputs": [
        {
          "output_type": "display_data",
          "data": {
            "text/plain": [
              "<Figure size 640x480 with 1 Axes>"
            ],
            "image/png": "[encoded data removed]"
          },
          "metadata": {}
        }
      ]
    },
    {
      "cell_type": "markdown",
      "source": [
        "* Number of male students are high comapre to feamle and more male students get high grade and no male students fail."
      ],
      "metadata": {
        "id": "BfokM9JJOhoT"
      }
    },
    {
      "cell_type": "code",
      "source": [
        "sns.countplot(data, x='Grade', hue='Scholarship')\n",
        "plt.title('Grade vs Scholarship')\n",
        "plt.show()"
      ],
      "metadata": {
        "colab": {
          "base_uri": "https://localhost:8080/",
          "height": 472
        },
        "id": "S7JY13m_OdxN",
        "outputId": "ccc8ad7f-a339-4efc-c7a3-a420b1bdae27"
      },
      "execution_count": 26,
      "outputs": [
        {
          "output_type": "display_data",
          "data": {
            "text/plain": [
              "<Figure size 640x480 with 1 Axes>"
            ],
            "image/png": "[encoded data removed]"
          },
          "metadata": {}
        }
      ]
    },
    {
      "cell_type": "code",
      "source": [
        "sns.countplot(x='Grade', hue='Attendance', data=data)\n",
        "plt.title('Grade vs Attendance')\n",
        "plt.show()"
      ],
      "metadata": {
        "colab": {
          "base_uri": "https://localhost:8080/",
          "height": 472
        },
        "id": "--xfuLoUOkt3",
        "outputId": "6199e823-3686-4b90-c1e8-86fe25ff0a86"
      },
      "execution_count": 27,
      "outputs": [
        {
          "output_type": "display_data",
          "data": {
            "text/plain": [
              "<Figure size 640x480 with 1 Axes>"
            ],
            "image/png": "[encoded data removed]"
          },
          "metadata": {}
        }
      ]
    },
    {
      "cell_type": "code",
      "source": [
        "sns.countplot(x='Grade', hue='Weekly_Study_Hours', data=data)\n",
        "plt.title('Grade vs Weekly_study_Hours')\n",
        "plt.show()"
      ],
      "metadata": {
        "colab": {
          "base_uri": "https://localhost:8080/",
          "height": 472
        },
        "id": "zXJpc7liOqA_",
        "outputId": "e0cb1b37-ee6d-4495-e15d-de2a1daa92b8"
      },
      "execution_count": 28,
      "outputs": [
        {
          "output_type": "display_data",
          "data": {
            "text/plain": [
              "<Figure size 640x480 with 1 Axes>"
            ],
            "image/png": "[encoded data removed]"
          },
          "metadata": {}
        }
      ]
    },
    {
      "cell_type": "markdown",
      "source": [
        "* Weekly study hour is not that much matter to get good grade. maybe listening class properly helps to get  good grade.\n",
        "* Mejory students dont study and average students study nearly 2 hours in a week.\n",
        "\n",
        "## Data Preprocessing\n",
        "\n",
        "### Handling Anomalies"
      ],
      "metadata": {
        "id": "au8-B9--OyaA"
      }
    },
    {
      "cell_type": "code",
      "source": [
        "# Fix wrong entry like \"3\"\n",
        "data['Attendance'] = data['Attendance'].replace('3', 'Sometimes')"
      ],
      "metadata": {
        "id": "Xnzqa008OslK"
      },
      "execution_count": 29,
      "outputs": []
    },
    {
      "cell_type": "code",
      "source": [
        "# Count occurrences of value 6\n",
        "print(\"Notes value counts:\\n\", data['Notes'].value_counts())\n",
        "print(\"Listening counts:\\n\", data['Listening_in_Class'].value_counts())"
      ],
      "metadata": {
        "colab": {
          "base_uri": "https://localhost:8080/"
        },
        "id": "dqhor3M0O4Y3",
        "outputId": "fef49700-3267-4cc8-c6d6-d75067b474c9"
      },
      "execution_count": 30,
      "outputs": [
        {
          "output_type": "stream",
          "name": "stdout",
          "text": [
            "Notes value counts:\n",
            " Notes\n",
            "Yes    77\n",
            "No     66\n",
            "6       2\n",
            "Name: count, dtype: int64\n",
            "Listening counts:\n",
            " Listening_in_Class\n",
            "Yes    75\n",
            "No     69\n",
            "6       1\n",
            "Name: count, dtype: int64\n"
          ]
        }
      ]
    },
    {
      "cell_type": "code",
      "source": [
        "data['Notes'] = data['Notes'].replace('6', 'Yes')"
      ],
      "metadata": {
        "id": "jHUDLac_PkD_"
      },
      "execution_count": 31,
      "outputs": []
    },
    {
      "cell_type": "code",
      "source": [
        "data['Listening_in_Class'] = data['Listening_in_Class'].replace('6', 'Yes')"
      ],
      "metadata": {
        "id": "XFPE7_9xP2xg"
      },
      "execution_count": 32,
      "outputs": []
    },
    {
      "cell_type": "code",
      "source": [
        "print(data['Attendance'].value_counts())\n",
        "print(data['Notes'].value_counts())\n",
        "print(data['Listening_in_Class'].value_counts())"
      ],
      "metadata": {
        "colab": {
          "base_uri": "https://localhost:8080/"
        },
        "id": "QMO_2v0XP8gQ",
        "outputId": "0cc3f17b-3093-4727-8503-ed7e05d7a555"
      },
      "execution_count": 34,
      "outputs": [
        {
          "output_type": "stream",
          "name": "stdout",
          "text": [
            "Attendance\n",
            "Always       98\n",
            "Sometimes    26\n",
            "Never        21\n",
            "Name: count, dtype: int64\n",
            "Notes\n",
            "Yes    79\n",
            "No     66\n",
            "Name: count, dtype: int64\n",
            "Listening_in_Class\n",
            "Yes    76\n",
            "No     69\n",
            "Name: count, dtype: int64\n"
          ]
        }
      ]
    },
    {
      "cell_type": "code",
      "source": [
        "data['Scholarship'].unique()"
      ],
      "metadata": {
        "colab": {
          "base_uri": "https://localhost:8080/"
        },
        "id": "WjlsytEZQAtz",
        "outputId": "b56113a7-975b-4c4d-885e-746ef4eddbfb"
      },
      "execution_count": 35,
      "outputs": [
        {
          "output_type": "execute_result",
          "data": {
            "text/plain": [
              "array(['50%', '75%', '100%', '25%', nan], dtype=object)"
            ]
          },
          "metadata": {},
          "execution_count": 35
        }
      ]
    },
    {
      "cell_type": "code",
      "source": [
        "data['Scholarship'] = data['Scholarship'].fillna(data['Scholarship'].mode()[0])"
      ],
      "metadata": {
        "id": "Rt4czl9wQHyM"
      },
      "execution_count": 36,
      "outputs": []
    },
    {
      "cell_type": "code",
      "source": [
        "print(data['Grade'].value_counts())"
      ],
      "metadata": {
        "colab": {
          "base_uri": "https://localhost:8080/"
        },
        "id": "4nXSvTHYQVEY",
        "outputId": "9ba9378a-331c-49ed-c0e7-ee470d7c49a1"
      },
      "execution_count": 37,
      "outputs": [
        {
          "output_type": "stream",
          "name": "stdout",
          "text": [
            "Grade\n",
            "AA      35\n",
            "BA      24\n",
            "BB      21\n",
            "CC      17\n",
            "DD      17\n",
            "DC      13\n",
            "CB      10\n",
            "Fail     8\n",
            "Name: count, dtype: int64\n"
          ]
        }
      ]
    },
    {
      "cell_type": "markdown",
      "source": [
        "### Check all categorical columns"
      ],
      "metadata": {
        "id": "rjtI4OvCQh1d"
      }
    },
    {
      "cell_type": "code",
      "source": [
        "\n",
        "cat_cols = data.select_dtypes(include='object').columns\n",
        "print(cat_cols)"
      ],
      "metadata": {
        "colab": {
          "base_uri": "https://localhost:8080/"
        },
        "id": "QBigStaZQX0K",
        "outputId": "d5303fab-25df-47bd-95cf-8d37c7cd71fd"
      },
      "execution_count": 38,
      "outputs": [
        {
          "output_type": "stream",
          "name": "stdout",
          "text": [
            "Index(['Sex', 'High_School_Type', 'Scholarship', 'Additional_Work',\n",
            "       'Sports_activity', 'Transportation', 'Attendance', 'Reading', 'Notes',\n",
            "       'Listening_in_Class', 'Project_work', 'Grade'],\n",
            "      dtype='object')\n"
          ]
        }
      ]
    },
    {
      "cell_type": "markdown",
      "source": [
        "### Grade Mapping"
      ],
      "metadata": {
        "id": "x_x4P5AJSN4z"
      }
    },
    {
      "cell_type": "code",
      "source": [
        "grade_map = {\n",
        "    'AA': 7,\n",
        "    'BA': 6,\n",
        "    'BB': 5,\n",
        "    'CB': 4,\n",
        "    'CC': 3,\n",
        "    'DC': 2,\n",
        "    'DD': 1,\n",
        "    'Fail': 0\n",
        "}\n",
        "\n",
        "data['Grade'] = data['Grade'].map(grade_map)"
      ],
      "metadata": {
        "id": "t5FRp63NSEf-"
      },
      "execution_count": 39,
      "outputs": []
    },
    {
      "cell_type": "code",
      "source": [
        "data['Grade'] = data['Grade'].apply(lambda x: 1 if x >= 3 else 0)  # 1 = High, 0 = Low\n"
      ],
      "metadata": {
        "id": "QWPxn0lISSgQ"
      },
      "execution_count": 40,
      "outputs": []
    },
    {
      "cell_type": "code",
      "source": [
        "data['Grade'].nunique()"
      ],
      "metadata": {
        "colab": {
          "base_uri": "https://localhost:8080/"
        },
        "id": "ELzT8s-OSqlz",
        "outputId": "695903e9-f68c-4e69-a35a-113c46977075"
      },
      "execution_count": 41,
      "outputs": [
        {
          "output_type": "execute_result",
          "data": {
            "text/plain": [
              "2"
            ]
          },
          "metadata": {},
          "execution_count": 41
        }
      ]
    },
    {
      "cell_type": "markdown",
      "source": [
        "### Label encoding"
      ],
      "metadata": {
        "id": "Ror553_tTeZh"
      }
    },
    {
      "cell_type": "code",
      "source": [
        "from sklearn.preprocessing import LabelEncoder\n",
        "\n",
        "binary_cols = ['Sex', 'High_School_Type', 'Additional_Work',\n",
        "               'Sports_activity', 'Transportation',\n",
        "               'Reading', 'Notes', 'Listening_in_Class', 'Project_work']\n",
        "\n",
        "label_encoders = {}  # Store all encoders in a dictionary\n",
        "\n",
        "for col in binary_cols:\n",
        "    le = LabelEncoder()\n",
        "    data[col] = le.fit_transform(data[col])\n",
        "    label_encoders[col] = le\n"
      ],
      "metadata": {
        "id": "EuVbWtwKS5jm"
      },
      "execution_count": 42,
      "outputs": []
    },
    {
      "cell_type": "code",
      "source": [
        "# Scholarship: convert percentage strings to int\n",
        "data['Scholarship'] = data['Scholarship'].astype(str).str.replace('%', '').astype(int)\n",
        "\n",
        "# Attendance mapping\n",
        "attendance_map = {'Never': 0, 'Sometimes': 1, 'Always': 2}\n",
        "data['Attendance'] = data['Attendance'].map(attendance_map)\n"
      ],
      "metadata": {
        "id": "TxoWPubYTf5r"
      },
      "execution_count": 43,
      "outputs": []
    },
    {
      "cell_type": "code",
      "source": [
        "print(data.info())\n",
        "print(data.head())"
      ],
      "metadata": {
        "colab": {
          "base_uri": "https://localhost:8080/"
        },
        "id": "q3AKdhagTtm0",
        "outputId": "5f6ad782-b423-4516-e4b8-871843c75bee"
      },
      "execution_count": 44,
      "outputs": [
        {
          "output_type": "stream",
          "name": "stdout",
          "text": [
            "<class 'pandas.core.frame.DataFrame'>\n",
            "RangeIndex: 145 entries, 0 to 144\n",
            "Data columns (total 14 columns):\n",
            " #   Column              Non-Null Count  Dtype\n",
            "---  ------              --------------  -----\n",
            " 0   Student_Age         145 non-null    int64\n",
            " 1   Sex                 145 non-null    int64\n",
            " 2   High_School_Type    145 non-null    int64\n",
            " 3   Scholarship         145 non-null    int64\n",
            " 4   Additional_Work     145 non-null    int64\n",
            " 5   Sports_activity     145 non-null    int64\n",
            " 6   Transportation      145 non-null    int64\n",
            " 7   Weekly_Study_Hours  145 non-null    int64\n",
            " 8   Attendance          145 non-null    int64\n",
            " 9   Reading             145 non-null    int64\n",
            " 10  Notes               145 non-null    int64\n",
            " 11  Listening_in_Class  145 non-null    int64\n",
            " 12  Project_work        145 non-null    int64\n",
            " 13  Grade               145 non-null    int64\n",
            "dtypes: int64(14)\n",
            "memory usage: 16.0 KB\n",
            "None\n",
            "   Student_Age  Sex  High_School_Type  Scholarship  Additional_Work  \\\n",
            "0           21    1                 0           50                1   \n",
            "1           20    1                 0           50                1   \n",
            "2           21    1                 2           50                0   \n",
            "3           18    0                 1           50                1   \n",
            "4           22    1                 1           50                0   \n",
            "\n",
            "   Sports_activity  Transportation  Weekly_Study_Hours  Attendance  Reading  \\\n",
            "0                0               1                   0           2        1   \n",
            "1                0               1                   0           2        1   \n",
            "2                0               1                   2           0        0   \n",
            "3                0               0                   2           2        0   \n",
            "4                0               0                  12           2        1   \n",
            "\n",
            "   Notes  Listening_in_Class  Project_work  Grade  \n",
            "0      1                   0             0      1  \n",
            "1      0                   1             1      1  \n",
            "2      0                   0             1      1  \n",
            "3      1                   0             0      1  \n",
            "4      0                   1             1      1  \n"
          ]
        }
      ]
    },
    {
      "cell_type": "markdown",
      "source": [
        "## Outlier detection"
      ],
      "metadata": {
        "id": "HKQY-HS8saJK"
      }
    },
    {
      "cell_type": "code",
      "source": [
        "import pandas as pd\n",
        "import numpy as np\n",
        "\n",
        "def treat_outliers_with_median(data):\n",
        "    \"\"\"\n",
        "    Detects and replaces outliers in all numeric columns using the IQR method and median value.\n",
        "\n",
        "    Args:\n",
        "        data (pd.DataFrame): The input DataFrame.\n",
        "\n",
        "    Returns:\n",
        "        pd.DataFrame: DataFrame with outliers replaced by median values.\n",
        "    \"\"\"\n",
        "    numeric_cols = data.select_dtypes(include=np.number).columns\n",
        "\n",
        "    for col in numeric_cols:\n",
        "        Q1 = data[col].quantile(0.25)\n",
        "        Q3 = data[col].quantile(0.75)\n",
        "        IQR = Q3 - Q1\n",
        "        lower_bound = Q1 - 1.5 * IQR\n",
        "        upper_bound = Q3 + 1.5 * IQR\n",
        "\n",
        "        outlier_mask = (data[col] < lower_bound) | (data[col] > upper_bound)\n",
        "        median_val = data[col].median()\n",
        "        data.loc[outlier_mask, col] = median_val\n",
        "\n",
        "        print(f\"Replaced {outlier_mask.sum()} outliers in '{col}' with median: {median_val:.2f}\")\n",
        "\n",
        "    return data\n"
      ],
      "metadata": {
        "id": "xb4jfzlmLxkG"
      },
      "execution_count": 45,
      "outputs": []
    },
    {
      "cell_type": "code",
      "source": [
        "data = treat_outliers_with_median(data)\n"
      ],
      "metadata": {
        "colab": {
          "base_uri": "https://localhost:8080/"
        },
        "id": "Te8L4s-RL3Oo",
        "outputId": "e6c19dd0-2b83-47cd-e759-3d4f2317cac8"
      },
      "execution_count": 46,
      "outputs": [
        {
          "output_type": "stream",
          "name": "stdout",
          "text": [
            "Replaced 2 outliers in 'Student_Age' with median: 19.00\n",
            "Replaced 0 outliers in 'Sex' with median: 1.00\n",
            "Replaced 0 outliers in 'High_School_Type' with median: 2.00\n",
            "Replaced 0 outliers in 'Scholarship' with median: 50.00\n",
            "Replaced 0 outliers in 'Additional_Work' with median: 0.00\n",
            "Replaced 0 outliers in 'Sports_activity' with median: 0.00\n",
            "Replaced 0 outliers in 'Transportation' with median: 1.00\n",
            "Replaced 25 outliers in 'Weekly_Study_Hours' with median: 0.00\n",
            "Replaced 0 outliers in 'Attendance' with median: 2.00\n",
            "Replaced 0 outliers in 'Reading' with median: 0.00\n",
            "Replaced 0 outliers in 'Notes' with median: 1.00\n",
            "Replaced 0 outliers in 'Listening_in_Class' with median: 1.00\n",
            "Replaced 0 outliers in 'Project_work' with median: 0.00\n",
            "Replaced 0 outliers in 'Grade' with median: 1.00\n"
          ]
        }
      ]
    },
    {
      "cell_type": "markdown",
      "source": [
        "## Model Building"
      ],
      "metadata": {
        "id": "4a8p1T_CVsYm"
      }
    },
    {
      "cell_type": "code",
      "source": [
        "from sklearn.model_selection import train_test_split\n",
        "\n",
        "X = data.drop('Grade', axis=1)\n",
        "y = data['Grade']\n",
        "\n",
        "X_train, X_test, y_train, y_test = train_test_split(X, y, test_size=0.3, random_state=1)\n"
      ],
      "metadata": {
        "id": "KOCWUpJwUgLO"
      },
      "execution_count": 47,
      "outputs": []
    },
    {
      "cell_type": "code",
      "source": [
        "print(\"Shape of Training set : \", X_train.shape)\n",
        "print(\"Shape of test set : \", X_test.shape)\n",
        "print(\"Percentage of classes in training set:\")\n",
        "print(y_train.value_counts(normalize=True))\n",
        "print(\"Percentage of classes in test set:\")\n",
        "print(y_test.value_counts(normalize=True))"
      ],
      "metadata": {
        "colab": {
          "base_uri": "https://localhost:8080/"
        },
        "id": "gAAH7db_VxOU",
        "outputId": "5a019711-1911-40ce-d9d8-38100c0540a7"
      },
      "execution_count": 48,
      "outputs": [
        {
          "output_type": "stream",
          "name": "stdout",
          "text": [
            "Shape of Training set :  (101, 13)\n",
            "Shape of test set :  (44, 13)\n",
            "Percentage of classes in training set:\n",
            "Grade\n",
            "1    0.742574\n",
            "0    0.257426\n",
            "Name: proportion, dtype: float64\n",
            "Percentage of classes in test set:\n",
            "Grade\n",
            "1    0.727273\n",
            "0    0.272727\n",
            "Name: proportion, dtype: float64\n"
          ]
        }
      ]
    },
    {
      "cell_type": "markdown",
      "source": [
        "### Logistic regression model"
      ],
      "metadata": {
        "id": "1CocmB3gWZzE"
      }
    },
    {
      "cell_type": "code",
      "source": [
        "from sklearn.preprocessing import StandardScaler\n",
        "from sklearn.linear_model import LogisticRegression\n",
        "from sklearn.tree import DecisionTreeClassifier\n",
        "from sklearn.metrics import accuracy_score, precision_score\n",
        "\n",
        "# Scale X data\n",
        "scaler = StandardScaler()\n",
        "X_train_scaled = scaler.fit_transform(X_train)\n",
        "X_test_scaled = scaler.transform(X_test)\n"
      ],
      "metadata": {
        "id": "x444B2_XY4mw"
      },
      "execution_count": 49,
      "outputs": []
    },
    {
      "cell_type": "code",
      "source": [
        "# Logistic Regression\n",
        "log_model = LogisticRegression(random_state=1)\n",
        "log_model.fit(X_train_scaled, y_train)\n",
        "\n",
        "# Predictions\n",
        "y_train_pred_log = log_model.predict(X_train_scaled)\n",
        "y_test_pred_log = log_model.predict(X_test_scaled)\n",
        "\n",
        "# Evaluation\n",
        "train_acc_log = accuracy_score(y_train, y_train_pred_log)\n",
        "test_acc_log = accuracy_score(y_test, y_test_pred_log)\n",
        "train_prec_log = precision_score(y_train, y_train_pred_log)\n",
        "test_prec_log = precision_score(y_test, y_test_pred_log)\n",
        "\n",
        "print(\"Logistic Regression:\")\n",
        "print(f\"Train Accuracy: {train_acc_log:.2f}, Train Precision: {train_prec_log:.2f}\")\n",
        "print(f\"Test Accuracy: {test_acc_log:.2f}, Test Precision: {test_prec_log:.2f}\")\n"
      ],
      "metadata": {
        "colab": {
          "base_uri": "https://localhost:8080/"
        },
        "id": "yVDjc5arZAdW",
        "outputId": "7517f5e7-1b45-4263-bdc0-e7365b3095cd"
      },
      "execution_count": 50,
      "outputs": [
        {
          "output_type": "stream",
          "name": "stdout",
          "text": [
            "Logistic Regression:\n",
            "Train Accuracy: 0.75, Train Precision: 0.77\n",
            "Test Accuracy: 0.75, Test Precision: 0.76\n"
          ]
        }
      ]
    },
    {
      "cell_type": "markdown",
      "source": [
        "* This model is generalizing well. The performance on the test set is similar to the train set, indicating low overfitting.\n",
        "* Suitable for production or decision-making, try for higher accuracy."
      ],
      "metadata": {
        "id": "znFzHPszZdMZ"
      }
    },
    {
      "cell_type": "code",
      "source": [
        "from sklearn.preprocessing import PolynomialFeatures\n",
        "\n",
        "# Create interaction-only polynomial features\n",
        "poly = PolynomialFeatures(degree=2, interaction_only=True, include_bias=False)\n",
        "\n",
        "# Fit only on training data\n",
        "X_train_poly = poly.fit_transform(X_train_scaled)\n",
        "\n",
        "# Transform test data using the same fit\n",
        "X_test_poly = poly.transform(X_test_scaled)\n"
      ],
      "metadata": {
        "id": "mFjCNCh3bRVm"
      },
      "execution_count": 51,
      "outputs": []
    },
    {
      "cell_type": "code",
      "source": [
        "from sklearn.linear_model import LogisticRegression\n",
        "from sklearn.metrics import accuracy_score, precision_score\n",
        "\n",
        "logreg_poly = LogisticRegression(C=0.1, penalty='l2', max_iter=1000)\n",
        "\n",
        "logreg_poly.fit(X_train_poly, y_train)\n",
        "\n",
        "y_train_pred = logreg_poly.predict(X_train_poly)\n",
        "y_test_pred = logreg_poly.predict(X_test_poly)\n",
        "\n",
        "print(\"Logistic Regression:\")\n",
        "print(\"Train Accuracy:\", accuracy_score(y_train, y_train_pred))\n",
        "print(\"Test Accuracy:\", accuracy_score(y_test, y_test_pred))\n",
        "print(\"Train Precision:\", precision_score(y_train, y_train_pred))\n",
        "print(\"Test Precision:\", precision_score(y_test, y_test_pred))\n"
      ],
      "metadata": {
        "colab": {
          "base_uri": "https://localhost:8080/"
        },
        "id": "nPg9pBs2cDOb",
        "outputId": "fbbe9003-20a2-42bd-e7a0-ad5aa1a5cdea"
      },
      "execution_count": 52,
      "outputs": [
        {
          "output_type": "stream",
          "name": "stdout",
          "text": [
            "Logistic Regression:\n",
            "Train Accuracy: 0.9702970297029703\n",
            "Test Accuracy: 0.6590909090909091\n",
            "Train Precision: 0.9615384615384616\n",
            "Test Precision: 0.7297297297297297\n"
          ]
        }
      ]
    },
    {
      "cell_type": "markdown",
      "source": [
        "### Decision tree model"
      ],
      "metadata": {
        "id": "KByIm6M_bD6s"
      }
    },
    {
      "cell_type": "code",
      "source": [
        "tree_model = DecisionTreeClassifier(\n",
        "    max_depth=5,\n",
        "    min_samples_split=10,\n",
        "    min_samples_leaf=5,\n",
        "    random_state=1\n",
        ")\n",
        "tree_model.fit(X_train, y_train)\n",
        "\n",
        "# Predictions\n",
        "y_train_pred_tree = tree_model.predict(X_train)\n",
        "y_test_pred_tree = tree_model.predict(X_test)\n",
        "\n",
        "# Evaluation\n",
        "train_acc_tree = accuracy_score(y_train, y_train_pred_tree)\n",
        "test_acc_tree = accuracy_score(y_test, y_test_pred_tree)\n",
        "train_prec_tree = precision_score(y_train, y_train_pred_tree)\n",
        "test_prec_tree = precision_score(y_test, y_test_pred_tree)\n",
        "\n",
        "print(\"Decision Tree:\")\n",
        "print(f\"Train Accuracy: {train_acc_tree:.2f}, Train Precision: {train_prec_tree:.2f}\")\n",
        "print(f\"Test Accuracy: {test_acc_tree:.2f}, Test Precision: {test_prec_tree:.2f}\")\n"
      ],
      "metadata": {
        "colab": {
          "base_uri": "https://localhost:8080/"
        },
        "id": "k5PHpCNEZd7d",
        "outputId": "249eecb4-6303-409a-c71c-af1e2609c776"
      },
      "execution_count": 53,
      "outputs": [
        {
          "output_type": "stream",
          "name": "stdout",
          "text": [
            "Decision Tree:\n",
            "Train Accuracy: 0.82, Train Precision: 0.85\n",
            "Test Accuracy: 0.68, Test Precision: 0.78\n"
          ]
        }
      ]
    },
    {
      "cell_type": "markdown",
      "source": [
        "## Random forest Model"
      ],
      "metadata": {
        "id": "310ogKoTMVV7"
      }
    },
    {
      "cell_type": "code",
      "source": [
        "from sklearn.ensemble import RandomForestClassifier\n",
        "\n",
        "rf_model = RandomForestClassifier(n_estimators=200, max_depth=10, min_samples_split=5,\n",
        "                            min_samples_leaf=3, random_state=1)\n",
        "rf_model.fit(X_train, y_train)\n",
        "\n",
        "y_train_pred_rf = rf_model.predict(X_train)\n",
        "y_test_pred_rf = rf_model.predict(X_test)\n",
        "\n",
        "print(\"Random forest:\")\n",
        "print(\"RF Train Accuracy:\", accuracy_score(y_train, y_train_pred_rf))\n",
        "print(\"RF Test Accuracy:\", accuracy_score(y_test, y_test_pred_rf))\n"
      ],
      "metadata": {
        "colab": {
          "base_uri": "https://localhost:8080/"
        },
        "id": "UzPvyy7rkK-4",
        "outputId": "042a9ac1-e144-4023-e5ff-8e55541368ed"
      },
      "execution_count": 54,
      "outputs": [
        {
          "output_type": "stream",
          "name": "stdout",
          "text": [
            "Random forest:\n",
            "RF Train Accuracy: 0.8316831683168316\n",
            "RF Test Accuracy: 0.7727272727272727\n"
          ]
        }
      ]
    },
    {
      "cell_type": "code",
      "source": [
        "from sklearn.ensemble import RandomForestClassifier\n",
        "from sklearn.model_selection import GridSearchCV\n",
        "\n",
        "\n",
        "# Define the hyperparameter grid\n",
        "param_grid = {\n",
        "    'n_estimators': [100, 200, 300],\n",
        "    'max_depth': [5, 10, 15],\n",
        "    'min_samples_split': [2, 5, 10],\n",
        "    'min_samples_leaf': [1, 2, 4]\n",
        "}\n",
        "\n",
        "# Initialize the Random Forest Classifier\n",
        "rf = RandomForestClassifier(random_state=1)\n",
        "\n",
        "# Initialize GridSearchCV\n",
        "grid_search = GridSearchCV(estimator=rf, param_grid=param_grid, cv=3, scoring='accuracy', n_jobs=-1)\n",
        "\n",
        "# Fit GridSearchCV to the training data\n",
        "grid_search.fit(X_train, y_train)\n",
        "\n",
        "# Get the best parameters and best score\n",
        "best_params = grid_search.best_params_\n",
        "best_score = grid_search.best_score_\n",
        "print(\"Best Hyperparameters:\", best_params)\n",
        "print(\"Best CV Score:\", best_score)\n",
        "\n",
        "\n",
        "# Evaluate the best model on the test set\n",
        "best_rf = grid_search.best_estimator_\n",
        "y_train_pred_rf = best_rf.predict(X_train)\n",
        "y_test_pred_rf = best_rf.predict(X_test)\n",
        "\n",
        "print(\"RF Train Accuracy:\", accuracy_score(y_train, y_train_pred_rf))\n",
        "print(\"RF Test Accuracy:\", accuracy_score(y_test, y_test_pred_rf))"
      ],
      "metadata": {
        "colab": {
          "base_uri": "https://localhost:8080/"
        },
        "id": "HpwHkGA6OERr",
        "outputId": "3d9a3654-6d4f-4258-9a61-ab511363bd18"
      },
      "execution_count": 55,
      "outputs": [
        {
          "output_type": "stream",
          "name": "stdout",
          "text": [
            "Best Hyperparameters: {'max_depth': 10, 'min_samples_leaf': 1, 'min_samples_split': 2, 'n_estimators': 200}\n",
            "Best CV Score: 0.753119429590018\n",
            "RF Train Accuracy: 0.9900990099009901\n",
            "RF Test Accuracy: 0.6818181818181818\n"
          ]
        }
      ]
    },
    {
      "cell_type": "code",
      "source": [
        "importances = tree_model.feature_importances_\n",
        "features = X.columns\n",
        "indices = np.argsort(importances)[::-1]\n",
        "\n",
        "plt.figure(figsize=(10, 6))\n",
        "plt.title(\"Feature Importance\")\n",
        "plt.bar(range(X.shape[1]), importances[indices], align='center')\n",
        "plt.xticks(range(X.shape[1]), [features[i] for i in indices], rotation=90)\n",
        "plt.tight_layout()\n",
        "plt.show()\n"
      ],
      "metadata": {
        "colab": {
          "base_uri": "https://localhost:8080/",
          "height": 392
        },
        "id": "fpSimdroWuwu",
        "outputId": "10c5a116-8a3d-413b-f848-01beb2e308d8"
      },
      "execution_count": 56,
      "outputs": [
        {
          "output_type": "display_data",
          "data": {
            "text/plain": [
              "<Figure size 1000x600 with 1 Axes>"
            ],
            "image/png": "[encoded data removed]"
          },
          "metadata": {}
        }
      ]
    },
    {
      "cell_type": "code",
      "source": [
        "# Create a dictionary of model performance\n",
        "data = {\n",
        "    'Model': [\n",
        "        'Logistic Regression (Raw)',\n",
        "        'Logistic Regression (Polynomial)',\n",
        "        'Decision Tree',\n",
        "        'Random Forest (Untuned)',\n",
        "        'Random Forest (Tuned)'\n",
        "    ],\n",
        "    'Train Accuracy': [0.75, 0.97, 0.82, 0.83, 0.99],\n",
        "    'Test Accuracy': [0.75, 0.66, 0.68, 0.77, 0.68]\n",
        "}\n",
        "\n",
        "# Convert to DataFrame\n",
        "df_results = pd.DataFrame(data)\n",
        "\n",
        "# Display the table\n",
        "df_results\n"
      ],
      "metadata": {
        "colab": {
          "base_uri": "https://localhost:8080/",
          "height": 206
        },
        "id": "1AaMjGoReh9X",
        "outputId": "d58b6b7d-94bc-4d01-e3ff-7c14455a5131"
      },
      "execution_count": 57,
      "outputs": [
        {
          "output_type": "execute_result",
          "data": {
            "text/plain": [
              "                              Model  Train Accuracy  Test Accuracy\n",
              "0         Logistic Regression (Raw)            0.75           0.75\n",
              "1  Logistic Regression (Polynomial)            0.97           0.66\n",
              "2                     Decision Tree            0.82           0.68\n",
              "3           Random Forest (Untuned)            0.83           0.77\n",
              "4             Random Forest (Tuned)            0.99           0.68"
            ],
            "text/html": [
              "\n",
              "  <div id=\"df-1a35228c-5c77-4d1f-99ca-f8502f0268ee\" class=\"colab-df-container\">\n",
              "    <div>\n",
              "<style scoped>\n",
              "    .dataframe tbody tr th:only-of-type {\n",
              "        vertical-align: middle;\n",
              "    }\n",
              "\n",
              "    .dataframe tbody tr th {\n",
              "        vertical-align: top;\n",
              "    }\n",
              "\n",
              "    .dataframe thead th {\n",
              "        text-align: right;\n",
              "    }\n",
              "</style>\n",
              "<table border=\"1\" class=\"dataframe\">\n",
              "  <thead>\n",
              "    <tr style=\"text-align: right;\">\n",
              "      <th></th>\n",
              "      <th>Model</th>\n",
              "      <th>Train Accuracy</th>\n",
              "      <th>Test Accuracy</th>\n",
              "    </tr>\n",
              "  </thead>\n",
              "  <tbody>\n",
              "    <tr>\n",
              "      <th>0</th>\n",
              "      <td>Logistic Regression (Raw)</td>\n",
              "      <td>0.75</td>\n",
              "      <td>0.75</td>\n",
              "    </tr>\n",
              "    <tr>\n",
              "      <th>1</th>\n",
              "      <td>Logistic Regression (Polynomial)</td>\n",
              "      <td>0.97</td>\n",
              "      <td>0.66</td>\n",
              "    </tr>\n",
              "    <tr>\n",
              "      <th>2</th>\n",
              "      <td>Decision Tree</td>\n",
              "      <td>0.82</td>\n",
              "      <td>0.68</td>\n",
              "    </tr>\n",
              "    <tr>\n",
              "      <th>3</th>\n",
              "      <td>Random Forest (Untuned)</td>\n",
              "      <td>0.83</td>\n",
              "      <td>0.77</td>\n",
              "    </tr>\n",
              "    <tr>\n",
              "      <th>4</th>\n",
              "      <td>Random Forest (Tuned)</td>\n",
              "      <td>0.99</td>\n",
              "      <td>0.68</td>\n",
              "    </tr>\n",
              "  </tbody>\n",
              "</table>\n",
              "</div>\n",
              "    <div class=\"colab-df-buttons\">\n",
              "\n",
              "  <div class=\"colab-df-container\">\n",
              "    <button class=\"colab-df-convert\" onclick=\"convertToInteractive('df-1a35228c-5c77-4d1f-99ca-f8502f0268ee')\"\n",
              "            title=\"Convert this dataframe to an interactive table.\"\n",
              "            style=\"display:none;\">\n",
              "\n",
              "  <svg xmlns=\"http://www.w3.org/2000/svg\" height=\"24px\" viewBox=\"0 -960 960 960\">\n",
              "    <path d=\"M120-120v-720h720v720H120Zm60-500h600v-160H180v160Zm220 220h160v-160H400v160Zm0 220h160v-160H400v160ZM180-400h160v-160H180v160Zm440 0h160v-160H620v160ZM180-180h160v-160H180v160Zm440 0h160v-160H620v160Z\"/>\n",
              "  </svg>\n",
              "    </button>\n",
              "\n",
              "  <style>\n",
              "    .colab-df-container {\n",
              "      display:flex;\n",
              "      gap: 12px;\n",
              "    }\n",
              "\n",
              "    .colab-df-convert {\n",
              "      background-color: #E8F0FE;\n",
              "      border: none;\n",
              "      border-radius: 50%;\n",
              "      cursor: pointer;\n",
              "      display: none;\n",
              "      fill: #1967D2;\n",
              "      height: 32px;\n",
              "      padding: 0 0 0 0;\n",
              "      width: 32px;\n",
              "    }\n",
              "\n",
              "    .colab-df-convert:hover {\n",
              "      background-color: #E2EBFA;\n",
              "      box-shadow: 0px 1px 2px rgba(60, 64, 67, 0.3), 0px 1px 3px 1px rgba(60, 64, 67, 0.15);\n",
              "      fill: #174EA6;\n",
              "    }\n",
              "\n",
              "    .colab-df-buttons div {\n",
              "      margin-bottom: 4px;\n",
              "    }\n",
              "\n",
              "    [theme=dark] .colab-df-convert {\n",
              "      background-color: #3B4455;\n",
              "      fill: #D2E3FC;\n",
              "    }\n",
              "\n",
              "    [theme=dark] .colab-df-convert:hover {\n",
              "      background-color: #434B5C;\n",
              "      box-shadow: 0px 1px 3px 1px rgba(0, 0, 0, 0.15);\n",
              "      filter: drop-shadow(0px 1px 2px rgba(0, 0, 0, 0.3));\n",
              "      fill: #FFFFFF;\n",
              "    }\n",
              "  </style>\n",
              "\n",
              "    <script>\n",
              "      const buttonEl =\n",
              "        document.querySelector('#df-1a35228c-5c77-4d1f-99ca-f8502f0268ee button.colab-df-convert');\n",
              "      buttonEl.style.display =\n",
              "        google.colab.kernel.accessAllowed ? 'block' : 'none';\n",
              "\n",
              "      async function convertToInteractive(key) {\n",
              "        const element = document.querySelector('#df-1a35228c-5c77-4d1f-99ca-f8502f0268ee');\n",
              "        const dataTable =\n",
              "          await google.colab.kernel.invokeFunction('convertToInteractive',\n",
              "                                                    [key], {});\n",
              "        if (!dataTable) return;\n",
              "\n",
              "        const docLinkHtml = 'Like what you see? Visit the ' +\n",
              "          '<a target=\"_blank\" href=https://colab.research.google.com/notebooks/data_table.ipynb>data table notebook</a>'\n",
              "          + ' to learn more about interactive tables.';\n",
              "        element.innerHTML = '';\n",
              "        dataTable['output_type'] = 'display_data';\n",
              "        await google.colab.output.renderOutput(dataTable, element);\n",
              "        const docLink = document.createElement('div');\n",
              "        docLink.innerHTML = docLinkHtml;\n",
              "        element.appendChild(docLink);\n",
              "      }\n",
              "    </script>\n",
              "  </div>\n",
              "\n",
              "\n",
              "    <div id=\"df-4ae38afc-886d-4000-bc5c-0c6c70c2513c\">\n",
              "      <button class=\"colab-df-quickchart\" onclick=\"quickchart('df-4ae38afc-886d-4000-bc5c-0c6c70c2513c')\"\n",
              "                title=\"Suggest charts\"\n",
              "                style=\"display:none;\">\n",
              "\n",
              "<svg xmlns=\"http://www.w3.org/2000/svg\" height=\"24px\"viewBox=\"0 0 24 24\"\n",
              "     width=\"24px\">\n",
              "    <g>\n",
              "        <path d=\"M19 3H5c-1.1 0-2 .9-2 2v14c0 1.1.9 2 2 2h14c1.1 0 2-.9 2-2V5c0-1.1-.9-2-2-2zM9 17H7v-7h2v7zm4 0h-2V7h2v10zm4 0h-2v-4h2v4z\"/>\n",
              "    </g>\n",
              "</svg>\n",
              "      </button>\n",
              "\n",
              "<style>\n",
              "  .colab-df-quickchart {\n",
              "      --bg-color: #E8F0FE;\n",
              "      --fill-color: #1967D2;\n",
              "      --hover-bg-color: #E2EBFA;\n",
              "      --hover-fill-color: #174EA6;\n",
              "      --disabled-fill-color: #AAA;\n",
              "      --disabled-bg-color: #DDD;\n",
              "  }\n",
              "\n",
              "  [theme=dark] .colab-df-quickchart {\n",
              "      --bg-color: #3B4455;\n",
              "      --fill-color: #D2E3FC;\n",
              "      --hover-bg-color: #434B5C;\n",
              "      --hover-fill-color: #FFFFFF;\n",
              "      --disabled-bg-color: #3B4455;\n",
              "      --disabled-fill-color: #666;\n",
              "  }\n",
              "\n",
              "  .colab-df-quickchart {\n",
              "    background-color: var(--bg-color);\n",
              "    border: none;\n",
              "    border-radius: 50%;\n",
              "    cursor: pointer;\n",
              "    display: none;\n",
              "    fill: var(--fill-color);\n",
              "    height: 32px;\n",
              "    padding: 0;\n",
              "    width: 32px;\n",
              "  }\n",
              "\n",
              "  .colab-df-quickchart:hover {\n",
              "    background-color: var(--hover-bg-color);\n",
              "    box-shadow: 0 1px 2px rgba(60, 64, 67, 0.3), 0 1px 3px 1px rgba(60, 64, 67, 0.15);\n",
              "    fill: var(--button-hover-fill-color);\n",
              "  }\n",
              "\n",
              "  .colab-df-quickchart-complete:disabled,\n",
              "  .colab-df-quickchart-complete:disabled:hover {\n",
              "    background-color: var(--disabled-bg-color);\n",
              "    fill: var(--disabled-fill-color);\n",
              "    box-shadow: none;\n",
              "  }\n",
              "\n",
              "  .colab-df-spinner {\n",
              "    border: 2px solid var(--fill-color);\n",
              "    border-color: transparent;\n",
              "    border-bottom-color: var(--fill-color);\n",
              "    animation:\n",
              "      spin 1s steps(1) infinite;\n",
              "  }\n",
              "\n",
              "  @keyframes spin {\n",
              "    0% {\n",
              "      border-color: transparent;\n",
              "      border-bottom-color: var(--fill-color);\n",
              "      border-left-color: var(--fill-color);\n",
              "    }\n",
              "    20% {\n",
              "      border-color: transparent;\n",
              "      border-left-color: var(--fill-color);\n",
              "      border-top-color: var(--fill-color);\n",
              "    }\n",
              "    30% {\n",
              "      border-color: transparent;\n",
              "      border-left-color: var(--fill-color);\n",
              "      border-top-color: var(--fill-color);\n",
              "      border-right-color: var(--fill-color);\n",
              "    }\n",
              "    40% {\n",
              "      border-color: transparent;\n",
              "      border-right-color: var(--fill-color);\n",
              "      border-top-color: var(--fill-color);\n",
              "    }\n",
              "    60% {\n",
              "      border-color: transparent;\n",
              "      border-right-color: var(--fill-color);\n",
              "    }\n",
              "    80% {\n",
              "      border-color: transparent;\n",
              "      border-right-color: var(--fill-color);\n",
              "      border-bottom-color: var(--fill-color);\n",
              "    }\n",
              "    90% {\n",
              "      border-color: transparent;\n",
              "      border-bottom-color: var(--fill-color);\n",
              "    }\n",
              "  }\n",
              "</style>\n",
              "\n",
              "      <script>\n",
              "        async function quickchart(key) {\n",
              "          const quickchartButtonEl =\n",
              "            document.querySelector('#' + key + ' button');\n",
              "          quickchartButtonEl.disabled = true;  // To prevent multiple clicks.\n",
              "          quickchartButtonEl.classList.add('colab-df-spinner');\n",
              "          try {\n",
              "            const charts = await google.colab.kernel.invokeFunction(\n",
              "                'suggestCharts', [key], {});\n",
              "          } catch (error) {\n",
              "            console.error('Error during call to suggestCharts:', error);\n",
              "          }\n",
              "          quickchartButtonEl.classList.remove('colab-df-spinner');\n",
              "          quickchartButtonEl.classList.add('colab-df-quickchart-complete');\n",
              "        }\n",
              "        (() => {\n",
              "          let quickchartButtonEl =\n",
              "            document.querySelector('#df-4ae38afc-886d-4000-bc5c-0c6c70c2513c button');\n",
              "          quickchartButtonEl.style.display =\n",
              "            google.colab.kernel.accessAllowed ? 'block' : 'none';\n",
              "        })();\n",
              "      </script>\n",
              "    </div>\n",
              "\n",
              "  <div id=\"id_2493e5a5-b495-42a1-81b2-87e78d2cf159\">\n",
              "    <style>\n",
              "      .colab-df-generate {\n",
              "        background-color: #E8F0FE;\n",
              "        border: none;\n",
              "        border-radius: 50%;\n",
              "        cursor: pointer;\n",
              "        display: none;\n",
              "        fill: #1967D2;\n",
              "        height: 32px;\n",
              "        padding: 0 0 0 0;\n",
              "        width: 32px;\n",
              "      }\n",
              "\n",
              "      .colab-df-generate:hover {\n",
              "        background-color: #E2EBFA;\n",
              "        box-shadow: 0px 1px 2px rgba(60, 64, 67, 0.3), 0px 1px 3px 1px rgba(60, 64, 67, 0.15);\n",
              "        fill: #174EA6;\n",
              "      }\n",
              "\n",
              "      [theme=dark] .colab-df-generate {\n",
              "        background-color: #3B4455;\n",
              "        fill: #D2E3FC;\n",
              "      }\n",
              "\n",
              "      [theme=dark] .colab-df-generate:hover {\n",
              "        background-color: #434B5C;\n",
              "        box-shadow: 0px 1px 3px 1px rgba(0, 0, 0, 0.15);\n",
              "        filter: drop-shadow(0px 1px 2px rgba(0, 0, 0, 0.3));\n",
              "        fill: #FFFFFF;\n",
              "      }\n",
              "    </style>\n",
              "    <button class=\"colab-df-generate\" onclick=\"generateWithVariable('df_results')\"\n",
              "            title=\"Generate code using this dataframe.\"\n",
              "            style=\"display:none;\">\n",
              "\n",
              "  <svg xmlns=\"http://www.w3.org/2000/svg\" height=\"24px\"viewBox=\"0 0 24 24\"\n",
              "       width=\"24px\">\n",
              "    <path d=\"M7,19H8.4L18.45,9,17,7.55,7,17.6ZM5,21V16.75L18.45,3.32a2,2,0,0,1,2.83,0l1.4,1.43a1.91,1.91,0,0,1,.58,1.4,1.91,1.91,0,0,1-.58,1.4L9.25,21ZM18.45,9,17,7.55Zm-12,3A5.31,5.31,0,0,0,4.9,8.1,5.31,5.31,0,0,0,1,6.5,5.31,5.31,0,0,0,4.9,4.9,5.31,5.31,0,0,0,6.5,1,5.31,5.31,0,0,0,8.1,4.9,5.31,5.31,0,0,0,12,6.5,5.46,5.46,0,0,0,6.5,12Z\"/>\n",
              "  </svg>\n",
              "    </button>\n",
              "    <script>\n",
              "      (() => {\n",
              "      const buttonEl =\n",
              "        document.querySelector('#id_2493e5a5-b495-42a1-81b2-87e78d2cf159 button.colab-df-generate');\n",
              "      buttonEl.style.display =\n",
              "        google.colab.kernel.accessAllowed ? 'block' : 'none';\n",
              "\n",
              "      buttonEl.onclick = () => {\n",
              "        google.colab.notebook.generateWithVariable('df_results');\n",
              "      }\n",
              "      })();\n",
              "    </script>\n",
              "  </div>\n",
              "\n",
              "    </div>\n",
              "  </div>\n"
            ],
            "application/vnd.google.colaboratory.intrinsic+json": {
              "type": "dataframe",
              "variable_name": "df_results",
              "summary": "{\n  \"name\": \"df_results\",\n  \"rows\": 5,\n  \"fields\": [\n    {\n      \"column\": \"Model\",\n      \"properties\": {\n        \"dtype\": \"string\",\n        \"num_unique_values\": 5,\n        \"samples\": [\n          \"Logistic Regression (Polynomial)\",\n          \"Random Forest (Tuned)\",\n          \"Decision Tree\"\n        ],\n        \"semantic_type\": \"\",\n        \"description\": \"\"\n      }\n    },\n    {\n      \"column\": \"Train Accuracy\",\n      \"properties\": {\n        \"dtype\": \"number\",\n        \"std\": 0.10353743284435828,\n        \"min\": 0.75,\n        \"max\": 0.99,\n        \"num_unique_values\": 5,\n        \"samples\": [\n          0.97,\n          0.99,\n          0.82\n        ],\n        \"semantic_type\": \"\",\n        \"description\": \"\"\n      }\n    },\n    {\n      \"column\": \"Test Accuracy\",\n      \"properties\": {\n        \"dtype\": \"number\",\n        \"std\": 0.04868264577855232,\n        \"min\": 0.66,\n        \"max\": 0.77,\n        \"num_unique_values\": 4,\n        \"samples\": [\n          0.66,\n          0.77,\n          0.75\n        ],\n        \"semantic_type\": \"\",\n        \"description\": \"\"\n      }\n    }\n  ]\n}"
            }
          },
          "metadata": {},
          "execution_count": 57
        }
      ]
    },
    {
      "cell_type": "markdown",
      "source": [
        "## Observations\n",
        "1. Logistic Regression (Raw Features)\n",
        "* Achieved balanced performance: Train Accuracy = 0.75, Test Accuracy = 0.75\n",
        "* Indicates the model is generalizing well without overfitting.\n",
        "2. Logistic Regression (Polynomial Features)\n",
        "* Very high Train Accuracy (0.97) but lower Test Accuracy (0.66)\n",
        "* Suggests overfitting: model fits training data too well but fails to generalize.\n",
        "3. Decision Tree\n",
        "* Train Accuracy = 0.82, Test Accuracy = 0.68\n",
        "* Mild overfitting is present; performance drops on test data.\n",
        "4. Random Forest (Untuned)\n",
        "* Train Accuracy = 0.83, Test Accuracy = 0.77\n",
        "* Best generalization among all models; strong test accuracy without high overfitting.\n",
        "5. Random Forest (Tuned)\n",
        "* Extremely high Train Accuracy = 0.99 but Test Accuracy drops to 0.68\n",
        "* Severe overfitting after tuning; tuning may have overcomplicated the model.\n"
      ],
      "metadata": {
        "id": "HfH49BGDfC7Y"
      }
    },
    {
      "cell_type": "markdown",
      "source": [
        "## Recommendations\n",
        "1. Academic Interventions\n",
        "* Encourage study discipline via academic coaching — most low performers study less than two hours/week.\n",
        "* Promote active classroom engagement likel istening, note-taking, as it strongly correlates with grade improvement.\n",
        "2. Student Monitoring System\n",
        "* Develop a lightweight dashboard to track key predictors (e.g., attendance, study hours, reading habits).\n",
        "* Use the current ML model to flag at-risk students early for counselor intervention.\n",
        "3. Career Guidance App\n",
        "* Deploy the model in a Streamlit-based app to suggest personalized career paths.\n",
        "* Allow students to input skills/interests to improve predictive power.\n",
        "4. Data Strategy\n",
        "* Future surveys should include internships, domain interests, coding/soft skills, which are essential for career prediction beyond academics."
      ],
      "metadata": {
        "id": "dbvdnVdsNTvb"
      }
    },
    {
      "cell_type": "code",
      "source": [
        "import joblib\n",
        "\n",
        "joblib.dump(rf_model, \"career_model.pkl\")\n",
        "joblib.dump(label_encoders, \"label_encoders.pkl\")\n",
        "\n",
        "print(\"Model and encoders saved\")\n",
        "\n",
        "\n",
        "\n"
      ],
      "metadata": {
        "id": "tyKIFDMtXBVw",
        "colab": {
          "base_uri": "https://localhost:8080/"
        },
        "outputId": "3821ac5b-f504-4bd5-ce44-46c5b89f71c7"
      },
      "execution_count": 59,
      "outputs": [
        {
          "output_type": "stream",
          "name": "stdout",
          "text": [
            "Model and encoders saved\n"
          ]
        }
      ]
    },
    {
      "cell_type": "code",
      "source": [
        "from google.colab import files\n",
        "files.download(\"career_model.pkl\")\n",
        "files.download(\"label_encoders.pkl\")\n"
      ],
      "metadata": {
        "id": "MI4MCxyMgAyB",
        "colab": {
          "base_uri": "https://localhost:8080/",
          "height": 17
        },
        "outputId": "b9b0662d-c640-44e6-a51f-af20cfb28bc4"
      },
      "execution_count": 60,
      "outputs": [
        {
          "output_type": "display_data",
          "data": {
            "text/plain": [
              "<IPython.core.display.Javascript object>"
            ],
            "application/javascript": [
              "\n",
              "    async function download(id, filename, size) {\n",
              "      if (!google.colab.kernel.accessAllowed) {\n",
              "        return;\n",
              "      }\n",
              "      const div = document.createElement('div');\n",
              "      const label = document.createElement('label');\n",
              "      label.textContent = `Downloading \"${filename}\": `;\n",
              "      div.appendChild(label);\n",
              "      const progress = document.createElement('progress');\n",
              "      progress.max = size;\n",
              "      div.appendChild(progress);\n",
              "      document.body.appendChild(div);\n",
              "\n",
              "      const buffers = [];\n",
              "      let downloaded = 0;\n",
              "\n",
              "      const channel = await google.colab.kernel.comms.open(id);\n",
              "      // Send a message to notify the kernel that we're ready.\n",
              "      channel.send({})\n",
              "\n",
              "      for await (const message of channel.messages) {\n",
              "        // Send a message to notify the kernel that we're ready.\n",
              "        channel.send({})\n",
              "        if (message.buffers) {\n",
              "          for (const buffer of message.buffers) {\n",
              "            buffers.push(buffer);\n",
              "            downloaded += buffer.byteLength;\n",
              "            progress.value = downloaded;\n",
              "          }\n",
              "        }\n",
              "      }\n",
              "      const blob = new Blob(buffers, {type: 'application/binary'});\n",
              "      const a = document.createElement('a');\n",
              "      a.href = window.URL.createObjectURL(blob);\n",
              "      a.download = filename;\n",
              "      div.appendChild(a);\n",
              "      a.click();\n",
              "      div.remove();\n",
              "    }\n",
              "  "
            ]
          },
          "metadata": {}
        },
        {
          "output_type": "display_data",
          "data": {
            "text/plain": [
              "<IPython.core.display.Javascript object>"
            ],
            "application/javascript": [
              "download(\"download_80c98918-de8a-40ea-b099-167e4eee4440\", \"career_model.pkl\", 499801)"
            ]
          },
          "metadata": {}
        },
        {
          "output_type": "display_data",
          "data": {
            "text/plain": [
              "<IPython.core.display.Javascript object>"
            ],
            "application/javascript": [
              "\n",
              "    async function download(id, filename, size) {\n",
              "      if (!google.colab.kernel.accessAllowed) {\n",
              "        return;\n",
              "      }\n",
              "      const div = document.createElement('div');\n",
              "      const label = document.createElement('label');\n",
              "      label.textContent = `Downloading \"${filename}\": `;\n",
              "      div.appendChild(label);\n",
              "      const progress = document.createElement('progress');\n",
              "      progress.max = size;\n",
              "      div.appendChild(progress);\n",
              "      document.body.appendChild(div);\n",
              "\n",
              "      const buffers = [];\n",
              "      let downloaded = 0;\n",
              "\n",
              "      const channel = await google.colab.kernel.comms.open(id);\n",
              "      // Send a message to notify the kernel that we're ready.\n",
              "      channel.send({})\n",
              "\n",
              "      for await (const message of channel.messages) {\n",
              "        // Send a message to notify the kernel that we're ready.\n",
              "        channel.send({})\n",
              "        if (message.buffers) {\n",
              "          for (const buffer of message.buffers) {\n",
              "            buffers.push(buffer);\n",
              "            downloaded += buffer.byteLength;\n",
              "            progress.value = downloaded;\n",
              "          }\n",
              "        }\n",
              "      }\n",
              "      const blob = new Blob(buffers, {type: 'application/binary'});\n",
              "      const a = document.createElement('a');\n",
              "      a.href = window.URL.createObjectURL(blob);\n",
              "      a.download = filename;\n",
              "      div.appendChild(a);\n",
              "      a.click();\n",
              "      div.remove();\n",
              "    }\n",
              "  "
            ]
          },
          "metadata": {}
        },
        {
          "output_type": "display_data",
          "data": {
            "text/plain": [
              "<IPython.core.display.Javascript object>"
            ],
            "application/javascript": [
              "download(\"download_431eb9df-2b13-40b4-aa65-719f947675ae\", \"label_encoders.pkl\", 2405)"
            ]
          },
          "metadata": {}
        }
      ]
    },
    {
      "cell_type": "code",
      "source": [],
      "metadata": {
        "id": "lpGk7dATxgdL"
      },
      "execution_count": null,
      "outputs": []
    }
  ]
}